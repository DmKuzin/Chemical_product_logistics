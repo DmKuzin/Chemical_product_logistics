{
 "cells": [
  {
   "cell_type": "markdown",
   "metadata": {},
   "source": [
    "# Логистика химических продуктов"
   ]
  },
  {
   "cell_type": "markdown",
   "metadata": {},
   "source": [
    "Задача относится к области моделирования ценообразования на\n",
    "олигополистических рынках с использованием элементов теории игр. При этом\n",
    "не требуется каких-то специальных знаний по теории игр, задача решается из\n",
    "общих соображений.\n",
    "Рассмотрим гипотетический рынок химического продукта, используемого\n",
    "в промышленности для изготовления растворителей и синтеза полимеров.\n",
    "Допустим, что имеется три производителя данного продукта и четыре крупных\n",
    "покупателя, другие покупатели являются слишком мелкими и их влиянием\n",
    "можно пренебречь. Предположим, что все три производителя производят\n",
    "абсолютно одинаковый продукт и у покупателей на внутреннем рынке нет\n",
    "никаких предпочтений относительно выбора того или иного производителя\n",
    "кроме цены.\n",
    "Поставки продукта от производителя покупателям производятся по\n",
    "железной дороге в цистернах за счет производителя, т.е. расходы на перевозку\n",
    "прибавляются к расходам производителя. Тариф на перевозку зависит от\n",
    "расстояния доставки. Каждый производитель может доставить продукт до\n",
    "любого покупателя, при этом понеся соответствующие расходы за\n",
    "транспортировку. Также у любого поставщика есть возможность доставить\n",
    "любое количество своего продукта по железной дороге в морской порт, откуда\n",
    "его можно продать зарубежным покупателям по некоторой фиксированной цене,\n",
    "не зависящей от количества продукта (т.е. цена продажи 1 тонны и 10 000 тонн\n",
    "продукта будет одинаковой). Предположим, что все поставщики действуют\n",
    "рационально. Также примем, что если один из них может повысить свою\n",
    "прибыль понизив цену и забрав долю рынка у конкурентов, то он непременно\n",
    "сделает это. Цена, по которой можно продать продукт в порту, составляет 50\n",
    "долларов за тонну.\n",
    "Покупателями продукта на внутреннем рынке являются крупные\n",
    "промышленные компании. При этом потребности покупателей неэластичны по\n",
    "цене в диапазоне до 100 долларов за тонну продукта, а при большей цене\n",
    "покупатели откажутся от покупки. Каждый покупатель приобретает\n",
    "фиксированное количество продукта каждый месяц. Примем, что покупатель\n",
    "гарантированно меняет поставщика, если ему предлагается цена на ниже той,\n",
    "по которой он покупает в настоящее время.\n",
    "Данные по рынку представлены в таблицах 1-3."
   ]
  },
  {
   "cell_type": "markdown",
   "metadata": {},
   "source": [
    "# Задача"
   ]
  },
  {
   "cell_type": "markdown",
   "metadata": {},
   "source": [
    " Задача заключается в том, чтобы определить, кто у кого и по каким ценам\n",
    "будет покупать продукт после того, как рынок придет в состояние равновесия,\n",
    "т.е. когда ни у кого из производителей не будет мотивации менять цены или\n",
    "объемы поставок. Важным моментом является то, что необходимо найти именно\n",
    "верхнюю границу такого равновесия, т.е. набор максимальных возможных\n",
    "равновесных цен поставок. На рынке, работающем по описанным правилам,\n",
    "цены сами придут к уровню максимальных, если в начальный момент они были\n",
    "заведомо больше (скажем, если максимальные равновесные цены находятся в\n",
    "районе 50 долларов, а в начальный момент времени они были, допустим, 70\n",
    "долларов)."
   ]
  },
  {
   "cell_type": "markdown",
   "metadata": {},
   "source": [
    "# Библиотеки"
   ]
  },
  {
   "cell_type": "code",
   "execution_count": 840,
   "metadata": {},
   "outputs": [],
   "source": [
    "import pandas as pd\n",
    "import docplex.mp as dpx\n",
    "import cplex\n",
    "import matplotlib.pyplot as plt\n",
    "import numpy as np\n",
    "import seaborn as sns\n",
    "import networkx as nx\n",
    "\n",
    "boldText = '\\033[1m'"
   ]
  },
  {
   "cell_type": "code",
   "execution_count": 841,
   "metadata": {},
   "outputs": [],
   "source": [
    "#pip install networkx"
   ]
  },
  {
   "cell_type": "markdown",
   "metadata": {},
   "source": [
    "# Исходные данные модели"
   ]
  },
  {
   "cell_type": "code",
   "execution_count": 842,
   "metadata": {},
   "outputs": [],
   "source": [
    "# Данные по поставщикам\n",
    "NProds = 3\n",
    "d = 50\n",
    "ProdIndex=['Producer1', 'Producer2', 'Producer3']\n",
    "ProdData = {'Possibilities': [890,534,1153],\n",
    "            'SupplyPort': [18,13,18],\n",
    "            'ProdCost': [12,21,10],\n",
    "            'PortPrice': [d,d,d],\n",
    "            'Overhead': [18+12,13+21,18+10]\n",
    "             }\n",
    "Producers = pd.DataFrame(ProdData, ProdIndex)"
   ]
  },
  {
   "cell_type": "code",
   "execution_count": 843,
   "metadata": {},
   "outputs": [
    {
     "name": "stdout",
     "output_type": "stream",
     "text": [
      "\u001b[1mТаблица 1. Данные по поставщикам\n"
     ]
    },
    {
     "data": {
      "text/html": [
       "<div>\n",
       "<style scoped>\n",
       "    .dataframe tbody tr th:only-of-type {\n",
       "        vertical-align: middle;\n",
       "    }\n",
       "\n",
       "    .dataframe tbody tr th {\n",
       "        vertical-align: top;\n",
       "    }\n",
       "\n",
       "    .dataframe thead th {\n",
       "        text-align: right;\n",
       "    }\n",
       "</style>\n",
       "<table border=\"1\" class=\"dataframe\">\n",
       "  <thead>\n",
       "    <tr style=\"text-align: right;\">\n",
       "      <th></th>\n",
       "      <th>Possibilities</th>\n",
       "      <th>SupplyPort</th>\n",
       "      <th>ProdCost</th>\n",
       "      <th>PortPrice</th>\n",
       "      <th>Overhead</th>\n",
       "    </tr>\n",
       "  </thead>\n",
       "  <tbody>\n",
       "    <tr>\n",
       "      <td>Producer1</td>\n",
       "      <td>890</td>\n",
       "      <td>18</td>\n",
       "      <td>12</td>\n",
       "      <td>50</td>\n",
       "      <td>30</td>\n",
       "    </tr>\n",
       "    <tr>\n",
       "      <td>Producer2</td>\n",
       "      <td>534</td>\n",
       "      <td>13</td>\n",
       "      <td>21</td>\n",
       "      <td>50</td>\n",
       "      <td>34</td>\n",
       "    </tr>\n",
       "    <tr>\n",
       "      <td>Producer3</td>\n",
       "      <td>1153</td>\n",
       "      <td>18</td>\n",
       "      <td>10</td>\n",
       "      <td>50</td>\n",
       "      <td>28</td>\n",
       "    </tr>\n",
       "  </tbody>\n",
       "</table>\n",
       "</div>"
      ],
      "text/plain": [
       "           Possibilities  SupplyPort  ProdCost  PortPrice  Overhead\n",
       "Producer1            890          18        12         50        30\n",
       "Producer2            534          13        21         50        34\n",
       "Producer3           1153          18        10         50        28"
      ]
     },
     "execution_count": 843,
     "metadata": {},
     "output_type": "execute_result"
    }
   ],
   "source": [
    "print(boldText+'Таблица 1. Данные по поставщикам')\n",
    "Producers"
   ]
  },
  {
   "cell_type": "code",
   "execution_count": 844,
   "metadata": {},
   "outputs": [
    {
     "data": {
      "text/plain": [
       "Index(['Producer1', 'Producer2', 'Producer3'], dtype='object')"
      ]
     },
     "execution_count": 844,
     "metadata": {},
     "output_type": "execute_result"
    }
   ],
   "source": [
    "Producers.index"
   ]
  },
  {
   "cell_type": "code",
   "execution_count": 845,
   "metadata": {},
   "outputs": [
    {
     "name": "stdout",
     "output_type": "stream",
     "text": [
      "\u001b[1mДанные по поставщикам\n",
      "\n"
     ]
    },
    {
     "data": {
      "image/png": "[encoded data removed]",
      "text/plain": [
       "<Figure size 648x648 with 4 Axes>"
      ]
     },
     "metadata": {
      "needs_background": "light"
     },
     "output_type": "display_data"
    }
   ],
   "source": [
    "f, axes = plt.subplots(nrows=2, ncols=2, figsize=(9, 9), sharex=True)\n",
    "sns.despine(left=True)\n",
    "\n",
    "sns.barplot(x=Producers.index,\n",
    "            y='Possibilities',\n",
    "            data=Producers,\n",
    "            palette=\"deep\",\n",
    "            ax=axes[0, 0]).set_title('Производственные возможности')\n",
    "\n",
    "sns.barplot(x=Producers.index,\n",
    "            y='SupplyPort',\n",
    "            data=Producers,\n",
    "            palette=\"deep\",\n",
    "            ax=axes[0, 1]).set_title('Стоимость доставки в порт')\n",
    "\n",
    "sns.barplot(x=Producers.index,\n",
    "            y='ProdCost',\n",
    "            data=Producers,\n",
    "            palette=\"deep\",\n",
    "            ax=axes[1, 0]).set_title('Себестоимость производства')\n",
    "\n",
    "sns.barplot(x=Producers.index,\n",
    "            y='PortPrice',\n",
    "            data=Producers,\n",
    "            palette=\"deep\",\n",
    "            ax=axes[1, 1]).set_title('Цена в порту')\n",
    "\n",
    "print(boldText+'Данные по поставщикам\\n')\n",
    "\n",
    "plt.show()"
   ]
  },
  {
   "cell_type": "code",
   "execution_count": 846,
   "metadata": {},
   "outputs": [
    {
     "data": {
      "image/png": "[encoded data removed]",
      "text/plain": [
       "<Figure size 432x288 with 1 Axes>"
      ]
     },
     "metadata": {
      "needs_background": "light"
     },
     "output_type": "display_data"
    }
   ],
   "source": [
    "sns.barplot(x=Producers.index,\n",
    "            y='Overhead',\n",
    "            data=Producers,\n",
    "            palette=\"deep\").set_title('Себестоимость + Доставка в порт')\n",
    "plt.show()"
   ]
  },
  {
   "cell_type": "markdown",
   "metadata": {},
   "source": [
    "Преимущество в этом показателе даёт возможность варьироваь\n",
    "ценой в более широком диапазоне при поставке продуктов покупателям"
   ]
  },
  {
   "cell_type": "code",
   "execution_count": 847,
   "metadata": {},
   "outputs": [],
   "source": [
    "# Месячные потребности покупателей, тонн\n",
    "NBuyers = 4\n",
    "BuyersMaxPrice = 100\n",
    "BuyIndex = ['Buyer1','Buyer2','Buyer3','Buyer4']\n",
    "BuyData = {'Scenario1': [78,121,94,85], 'Scenario2': [117,670,193,279]}\n",
    "#BuyData = {'Scenario1': [974+1,121,94,85], 'Scenario2': [117,670,193,279]}\n",
    "Buyers = pd.DataFrame(BuyData, BuyIndex)"
   ]
  },
  {
   "cell_type": "code",
   "execution_count": 848,
   "metadata": {},
   "outputs": [
    {
     "name": "stdout",
     "output_type": "stream",
     "text": [
      "\u001b[1mТаблица 2. Месячные потребности покупателей, тонн\n"
     ]
    },
    {
     "data": {
      "text/html": [
       "<div>\n",
       "<style scoped>\n",
       "    .dataframe tbody tr th:only-of-type {\n",
       "        vertical-align: middle;\n",
       "    }\n",
       "\n",
       "    .dataframe tbody tr th {\n",
       "        vertical-align: top;\n",
       "    }\n",
       "\n",
       "    .dataframe thead th {\n",
       "        text-align: right;\n",
       "    }\n",
       "</style>\n",
       "<table border=\"1\" class=\"dataframe\">\n",
       "  <thead>\n",
       "    <tr style=\"text-align: right;\">\n",
       "      <th></th>\n",
       "      <th>Scenario1</th>\n",
       "      <th>Scenario2</th>\n",
       "    </tr>\n",
       "  </thead>\n",
       "  <tbody>\n",
       "    <tr>\n",
       "      <td>Buyer1</td>\n",
       "      <td>78</td>\n",
       "      <td>117</td>\n",
       "    </tr>\n",
       "    <tr>\n",
       "      <td>Buyer2</td>\n",
       "      <td>121</td>\n",
       "      <td>670</td>\n",
       "    </tr>\n",
       "    <tr>\n",
       "      <td>Buyer3</td>\n",
       "      <td>94</td>\n",
       "      <td>193</td>\n",
       "    </tr>\n",
       "    <tr>\n",
       "      <td>Buyer4</td>\n",
       "      <td>85</td>\n",
       "      <td>279</td>\n",
       "    </tr>\n",
       "  </tbody>\n",
       "</table>\n",
       "</div>"
      ],
      "text/plain": [
       "        Scenario1  Scenario2\n",
       "Buyer1         78        117\n",
       "Buyer2        121        670\n",
       "Buyer3         94        193\n",
       "Buyer4         85        279"
      ]
     },
     "execution_count": 848,
     "metadata": {},
     "output_type": "execute_result"
    }
   ],
   "source": [
    "print(boldText+'Таблица 2. Месячные потребности покупателей, тонн')\n",
    "Buyers"
   ]
  },
  {
   "cell_type": "code",
   "execution_count": 849,
   "metadata": {},
   "outputs": [
    {
     "name": "stdout",
     "output_type": "stream",
     "text": [
      "Scenario1\n"
     ]
    }
   ],
   "source": [
    "#выбор сценария\n",
    "Scenario = Buyers.columns[0] # 0 - Scenario1\n",
    "                             # 1 - Scenario2\n",
    "print(Scenario)"
   ]
  },
  {
   "cell_type": "code",
   "execution_count": 850,
   "metadata": {},
   "outputs": [
    {
     "data": {
      "image/png": "[encoded data removed]",
      "text/plain": [
       "<Figure size 432x288 with 1 Axes>"
      ]
     },
     "metadata": {
      "needs_background": "light"
     },
     "output_type": "display_data"
    }
   ],
   "source": [
    "sns.barplot(x=Buyers.index,\n",
    "            y='Scenario1',\n",
    "            data=Buyers,\n",
    "            palette=\"deep\").set_title('Потребности покупателей')\n",
    "plt.show()"
   ]
  },
  {
   "cell_type": "code",
   "execution_count": 851,
   "metadata": {},
   "outputs": [],
   "source": [
    "# Тарифы на железнодорожные перевозки\n",
    "RailData = {'Producer1':[14,23,21,42], 'Producer2':[26,10,19,36], 'Producer3':[15,38,18,15]}\n",
    "RailFares = pd.DataFrame(RailData, BuyIndex)"
   ]
  },
  {
   "cell_type": "code",
   "execution_count": 852,
   "metadata": {},
   "outputs": [
    {
     "name": "stdout",
     "output_type": "stream",
     "text": [
      "\u001b[1mТаблица 3. Тарифы на железнодорожные перевозки\n"
     ]
    },
    {
     "data": {
      "text/html": [
       "<div>\n",
       "<style scoped>\n",
       "    .dataframe tbody tr th:only-of-type {\n",
       "        vertical-align: middle;\n",
       "    }\n",
       "\n",
       "    .dataframe tbody tr th {\n",
       "        vertical-align: top;\n",
       "    }\n",
       "\n",
       "    .dataframe thead th {\n",
       "        text-align: right;\n",
       "    }\n",
       "</style>\n",
       "<table border=\"1\" class=\"dataframe\">\n",
       "  <thead>\n",
       "    <tr style=\"text-align: right;\">\n",
       "      <th></th>\n",
       "      <th>Producer1</th>\n",
       "      <th>Producer2</th>\n",
       "      <th>Producer3</th>\n",
       "    </tr>\n",
       "  </thead>\n",
       "  <tbody>\n",
       "    <tr>\n",
       "      <td>Buyer1</td>\n",
       "      <td>14</td>\n",
       "      <td>26</td>\n",
       "      <td>15</td>\n",
       "    </tr>\n",
       "    <tr>\n",
       "      <td>Buyer2</td>\n",
       "      <td>23</td>\n",
       "      <td>10</td>\n",
       "      <td>38</td>\n",
       "    </tr>\n",
       "    <tr>\n",
       "      <td>Buyer3</td>\n",
       "      <td>21</td>\n",
       "      <td>19</td>\n",
       "      <td>18</td>\n",
       "    </tr>\n",
       "    <tr>\n",
       "      <td>Buyer4</td>\n",
       "      <td>42</td>\n",
       "      <td>36</td>\n",
       "      <td>15</td>\n",
       "    </tr>\n",
       "  </tbody>\n",
       "</table>\n",
       "</div>"
      ],
      "text/plain": [
       "        Producer1  Producer2  Producer3\n",
       "Buyer1         14         26         15\n",
       "Buyer2         23         10         38\n",
       "Buyer3         21         19         18\n",
       "Buyer4         42         36         15"
      ]
     },
     "execution_count": 852,
     "metadata": {},
     "output_type": "execute_result"
    }
   ],
   "source": [
    "print(boldText+'Таблица 3. Тарифы на железнодорожные перевозки')\n",
    "RailFares"
   ]
  },
  {
   "cell_type": "code",
   "execution_count": 853,
   "metadata": {},
   "outputs": [
    {
     "data": {
      "text/plain": [
       "14"
      ]
     },
     "execution_count": 853,
     "metadata": {},
     "output_type": "execute_result"
    }
   ],
   "source": [
    "RailFares['Producer1']['Buyer1']"
   ]
  },
  {
   "cell_type": "code",
   "execution_count": 854,
   "metadata": {},
   "outputs": [
    {
     "name": "stdout",
     "output_type": "stream",
     "text": [
      "\u001b[1mТарифы на ЖД перевозки\n"
     ]
    },
    {
     "data": {
      "image/png": "[encoded data removed]",
      "text/plain": [
       "<Figure size 936x288 with 3 Axes>"
      ]
     },
     "metadata": {
      "needs_background": "light"
     },
     "output_type": "display_data"
    }
   ],
   "source": [
    "f, axes = plt.subplots(nrows=1, ncols=3, figsize=(13, 4), sharex=True)\n",
    "#sns.despine(left=True)\n",
    "\n",
    "sns.barplot(x=RailFares.index,\n",
    "            y='Producer1',\n",
    "            data=RailFares,\n",
    "            palette=\"deep\",\n",
    "            ax=axes[0]).set_title('Производитель 1')\n",
    "\n",
    "sns.barplot(x=RailFares.index,\n",
    "            y='Producer2',\n",
    "            data=RailFares,\n",
    "            palette=\"deep\",\n",
    "            ax=axes[1]).set_title('Производитель 2')\n",
    "\n",
    "sns.barplot(x=RailFares.index,\n",
    "            y='Producer3',\n",
    "            data=RailFares,\n",
    "            palette=\"deep\",\n",
    "            ax=axes[2]).set_title('Производитель 3')\n",
    "\n",
    "print(boldText+'Тарифы на ЖД перевозки')\n",
    "plt.show()"
   ]
  },
  {
   "cell_type": "code",
   "execution_count": 855,
   "metadata": {},
   "outputs": [],
   "source": [
    "totCost = RailFares + Producers['ProdCost']"
   ]
  },
  {
   "cell_type": "code",
   "execution_count": 856,
   "metadata": {},
   "outputs": [
    {
     "name": "stdout",
     "output_type": "stream",
     "text": [
      "\u001b[1mТарифы на ЖД перевозки + Себестоимость производства\n"
     ]
    },
    {
     "data": {
      "image/png": "[encoded data removed]",
      "text/plain": [
       "<Figure size 936x288 with 3 Axes>"
      ]
     },
     "metadata": {
      "needs_background": "light"
     },
     "output_type": "display_data"
    }
   ],
   "source": [
    "f, axes = plt.subplots(nrows=1, ncols=3, figsize=(13, 4), sharex=True)\n",
    "#sns.despine(left=True)\n",
    "\n",
    "sns.barplot(x=totCost.index,\n",
    "            y='Producer1',\n",
    "            data=totCost,\n",
    "            palette=\"deep\",\n",
    "            ax=axes[0]).set_title('Производитель 1')\n",
    "\n",
    "sns.barplot(x=totCost.index,\n",
    "            y='Producer2',\n",
    "            data=totCost,\n",
    "            palette=\"deep\",\n",
    "            ax=axes[1]).set_title('Производитель 2')\n",
    "\n",
    "sns.barplot(x=totCost.index,\n",
    "            y='Producer3',\n",
    "            data=totCost,\n",
    "            palette=\"deep\",\n",
    "            ax=axes[2]).set_title('Производитель 3')\n",
    "\n",
    "print(boldText+'Тарифы на ЖД перевозки + Себестоимость производства')\n",
    "plt.show()"
   ]
  },
  {
   "cell_type": "markdown",
   "metadata": {},
   "source": [
    "Здесь видно, что например, минимальные накладные расходы для доставки товаров второму покупателю имеет второй производитель.\n",
    "Однако, за счёт большего приимущества первого производителя по накладным расходам доставки продуктов в порт конкурентную борьбу по минимальной предложенной цене выигрывает он."
   ]
  },
  {
   "cell_type": "code",
   "execution_count": 857,
   "metadata": {},
   "outputs": [],
   "source": [
    "# Тарифы на жд перевозки от i-го производителя j-му покупателю + себестоимость производства i-го производителя\n",
    "k = np.zeros((NProds, NBuyers)).astype(int)\n",
    "i=0\n",
    "j=0\n",
    "for prod, pcost in zip(RailFares, Producers['ProdCost']): # перебор по Producers\n",
    "    j=0\n",
    "    for rfares in RailFares[prod]:\n",
    "        k[i,j] = rfares + pcost\n",
    "        j+=1\n",
    "    i+=1"
   ]
  },
  {
   "cell_type": "code",
   "execution_count": 858,
   "metadata": {},
   "outputs": [],
   "source": [
    "# Тарифы на жд перевозки в порт + себестоимость производства i-го производителя \n",
    "z = np.empty(NProds).astype(int)\n",
    "i=0\n",
    "for SupplyPort, ProdCost in zip(Producers['SupplyPort'], Producers['ProdCost']):\n",
    "    z[i] = SupplyPort + ProdCost\n",
    "    i+=1"
   ]
  },
  {
   "cell_type": "code",
   "execution_count": 859,
   "metadata": {},
   "outputs": [
    {
     "name": "stdout",
     "output_type": "stream",
     "text": [
      "Тарифы на жд перевозки в порт + себестоимость производства i-го производителя\n",
      "[30 34 28]\n"
     ]
    }
   ],
   "source": [
    "print('Тарифы на жд перевозки в порт + себестоимость производства i-го производителя')\n",
    "print(z)"
   ]
  },
  {
   "cell_type": "markdown",
   "metadata": {},
   "source": [
    "<img style=\"float: left;\" src=\"files/MinMaxPrice.png\">"
   ]
  },
  {
   "cell_type": "code",
   "execution_count": 860,
   "metadata": {},
   "outputs": [],
   "source": [
    "#Максимальная выгодная цена для продажи\n",
    "ProdBestPrices = np.zeros((NProds, NBuyers)).astype(int)"
   ]
  },
  {
   "cell_type": "code",
   "execution_count": 861,
   "metadata": {},
   "outputs": [],
   "source": [
    "for j in range(NBuyers):\n",
    "    i=0\n",
    "    for portPrice, supplyPort, supplyProd in zip(Producers['PortPrice'], Producers['SupplyPort'], k[:,j]):\n",
    "#       print(portPrice, supplyPort, supplyProd)\n",
    "        ProdBestPrices[i,j] = portPrice-supplyPort+1+supplyProd\n",
    "        i+=1"
   ]
  },
  {
   "cell_type": "code",
   "execution_count": 862,
   "metadata": {},
   "outputs": [
    {
     "name": "stdout",
     "output_type": "stream",
     "text": [
      "\u001b[1mМаксимальная выгодные цены для продажи:\n"
     ]
    },
    {
     "data": {
      "text/plain": [
       "array([[59, 68, 66, 87],\n",
       "       [85, 69, 78, 95],\n",
       "       [58, 81, 61, 58]])"
      ]
     },
     "execution_count": 862,
     "metadata": {},
     "output_type": "execute_result"
    }
   ],
   "source": [
    "print(boldText+'Максимальная выгодные цены для продажи:')\n",
    "ProdBestPrices"
   ]
  },
  {
   "cell_type": "code",
   "execution_count": 863,
   "metadata": {},
   "outputs": [
    {
     "name": "stdout",
     "output_type": "stream",
     "text": [
      "\u001b[1mМатрица спроса покупателей\n"
     ]
    },
    {
     "data": {
      "text/plain": [
       "array([[0, 1, 0, 0],\n",
       "       [0, 0, 0, 0],\n",
       "       [1, 0, 1, 1]])"
      ]
     },
     "execution_count": 863,
     "metadata": {},
     "output_type": "execute_result"
    }
   ],
   "source": [
    "#Матрица спроса покупателей\n",
    "h = np.zeros((NProds, NBuyers)).astype(int)\n",
    "for j in range(NBuyers):\n",
    "    min_idxs = np.argmin(ProdBestPrices[:,j])\n",
    "    h[min_idxs, j] = 1\n",
    "\n",
    "print(boldText+'Матрица спроса покупателей')\n",
    "h"
   ]
  },
  {
   "cell_type": "markdown",
   "metadata": {},
   "source": [
    "# Решение задачи"
   ]
  },
  {
   "cell_type": "markdown",
   "metadata": {},
   "source": [
    "Задача заключается в том, чтобы определить, кто у кого и по каким ценам\n",
    "будет покупать продукт после того, как рынок придет в состояние равновесия,\n",
    "т.е. когда ни у кого из производителей не будет мотивации менять цены или\n",
    "объемы поставок. Важным моментом является то, что необходимо найти именно\n",
    "верхнюю границу такого равновесия, т.е. набор максимальных возможных\n",
    "равновесных цен поставок. На рынке, работающем по описанным правилам,\n",
    "цены сами придут к уровню максимальных, если в начальный момент они были\n",
    "заведомо больше (скажем, если максимальные равновесные цены находятся в\n",
    "районе 50 долларов, а в начальный момент времени они были, допустим, 70\n",
    "долларов).\n",
    "Необходимо заполнить таблицу 4 ценами и объемами поставок."
   ]
  },
  {
   "cell_type": "markdown",
   "metadata": {},
   "source": [
    "# Построение модели"
   ]
  },
  {
   "cell_type": "code",
   "execution_count": 864,
   "metadata": {},
   "outputs": [],
   "source": [
    "from docplex.mp.model import Model\n",
    "mdl = dpx.model.Model(\"ChemProd\")"
   ]
  },
  {
   "cell_type": "markdown",
   "metadata": {},
   "source": [
    "# Переменные решения"
   ]
  },
  {
   "cell_type": "markdown",
   "metadata": {},
   "source": [
    "Определим переменные решения:\n",
    "\n",
    " - xij – количество тонн продукта поставленное от i-го производителя j-му покупателю;\n",
    " - yij – цена за тонну продукта i-го производителя j-му покупателю;\n",
    " - rij – есть или нету (1-есть, 0-нету) поставка продукта от i-го производителя j-му покупателю;\n",
    " - si – есть или нету (1-есть, 0-нету) поставка продукта от i-го производителя в порт."
   ]
  },
  {
   "cell_type": "code",
   "execution_count": 865,
   "metadata": {},
   "outputs": [],
   "source": [
    "# матрица решений, показывающая количество тонн продукта поставленное от i-го производителя j-му покупателю\n",
    "# столбец-производитель; строка-покупатель\n",
    "x = mdl.integer_var_matrix(NProds, NBuyers, name=lambda ij: \"ProdVol_to_Buyer%d_%d\" %(ij[0], ij[1]))"
   ]
  },
  {
   "cell_type": "code",
   "execution_count": 866,
   "metadata": {},
   "outputs": [],
   "source": [
    "# матрица решений, показывающая цену за тонну продукта i-го производителя j-му покупателю\n",
    "# столбец-производитель; строка-покупатель\n",
    "y = mdl.integer_var_matrix(NProds, NBuyers, name=lambda ij: \"ProdPrice_to_Buyer%d_%d\" %(ij[0], ij[1]))"
   ]
  },
  {
   "cell_type": "code",
   "execution_count": 867,
   "metadata": {},
   "outputs": [],
   "source": [
    "# вектор решений - количество продукта перевнзённое в порт\n",
    "p = mdl.integer_var_list(NProds, name='ProdVol_to_port')"
   ]
  },
  {
   "cell_type": "markdown",
   "metadata": {},
   "source": [
    "# Ограничения модели"
   ]
  },
  {
   "cell_type": "markdown",
   "metadata": {},
   "source": [
    "<img style=\"float: left;\" src=\"files/constrains.png\">"
   ]
  },
  {
   "cell_type": "markdown",
   "metadata": {},
   "source": [
    "1.\tОграничения по количеству тонн поставляемого продукта"
   ]
  },
  {
   "cell_type": "code",
   "execution_count": 868,
   "metadata": {},
   "outputs": [],
   "source": [
    "# Ограничения по количеству тонн производимого продукта для производителей\n",
    "for i, possib, cts_name in zip(range(NProds), Producers['Possibilities'], Producers['Possibilities'].index):\n",
    "    mdl.add_constraint(mdl.sum(x[i,j] for j in range(NBuyers)) + p[i] <= possib, ctname='Possib'+cts_name)"
   ]
  },
  {
   "cell_type": "markdown",
   "metadata": {},
   "source": [
    "2.\tОграничения по потребностям покупателей"
   ]
  },
  {
   "cell_type": "code",
   "execution_count": 869,
   "metadata": {},
   "outputs": [],
   "source": [
    "# Ограничения по потребностям покупателей для покупателей\n",
    "for j, req, buyer in zip(range(NBuyers), Buyers[Scenario], Buyers[Scenario].index):\n",
    "    mdl.add_constraint(mdl.sum(x[i,j] for i in range(NProds)) == req,  ctname=buyer+'Need')"
   ]
  },
  {
   "cell_type": "markdown",
   "metadata": {},
   "source": [
    "3.\tОграничения по максимальной и минимальной цене продукта"
   ]
  },
  {
   "cell_type": "code",
   "execution_count": 870,
   "metadata": {},
   "outputs": [],
   "source": [
    "# Ограничения по цене продукта\n",
    "for i in range(NProds):\n",
    "    for j in range(NBuyers):\n",
    "        #mdl.add_constraints( [y[i,j] <= BuyersMaxPrice, y[i,j] >= 0], ['BuyersMaxPrice', 'BuyersMinPrice'])\n",
    "        mdl.add_constraint( y[i,j] == ProdBestPrices[i,j], 'ProdBestPrices')"
   ]
  },
  {
   "cell_type": "code",
   "execution_count": 871,
   "metadata": {},
   "outputs": [
    {
     "name": "stdout",
     "output_type": "stream",
     "text": [
      "Информация о модели\n",
      "Model: ChemProd\n",
      " - number of variables: 27\n",
      "   - binary=0, integer=27, continuous=0\n",
      " - number of constraints: 19\n",
      "   - linear=19\n",
      " - parameters: defaults\n",
      " - problem type is: MILP\n"
     ]
    }
   ],
   "source": [
    "print('Информация о модели')\n",
    "mdl.print_information()"
   ]
  },
  {
   "cell_type": "markdown",
   "metadata": {},
   "source": [
    "# Целевая функция"
   ]
  },
  {
   "cell_type": "markdown",
   "metadata": {},
   "source": [
    "<img style=\"float: left;\" src=\"files/target_func.png\">"
   ]
  },
  {
   "cell_type": "raw",
   "metadata": {},
   "source": [
    "y_ij – цена за тонну продукта i-го производителя j-му покупателю;\n",
    "x_ij – количество тонн продукта поставленное от i-го производителя j-му покупателю;\n",
    "k_ij – затраты на ж.д. перевозку и производство продукта от i-го производителя j-му покупателю;\n",
    "h_ij – есть или нету (1-есть, 0-нету) поставка продукта от i-го производителя j-му покупателю;\n",
    "p_i – количество тонн продукта поставленное от i-го производителя в порт;\n",
    "d – фиксированная цена на продажу продукта в порту;\n",
    "z_i – затраты на ж.д. перевозку и производство продукта от i-го производителя в порт;\n",
    "n – количество производителей;\n",
    "m – количество покупателей."
   ]
  },
  {
   "cell_type": "code",
   "execution_count": 872,
   "metadata": {},
   "outputs": [],
   "source": [
    "#Доставка покупателям\n",
    "SalesBuyers = mdl.sum( (y[i,j]-k[i,j])*x[i,j]*h[i,j] for i in range(NProds) for j in range(NBuyers) ) \n",
    "#SalesBuyers = mdl.sum( (y[i,j]-k[i,j])*x[i,j] for i in range(NProds) for j in range(NBuyers) ) \n",
    "#Доставка в порт\n",
    "SalesPort = mdl.sum( (d-z[i])*p[i] for i in range(NProds) )\n",
    "#Целевая функция\n",
    "mdl.maximize(SalesBuyers + SalesPort)"
   ]
  },
  {
   "cell_type": "markdown",
   "metadata": {},
   "source": [
    "# Решение для модели"
   ]
  },
  {
   "cell_type": "code",
   "execution_count": 873,
   "metadata": {},
   "outputs": [
    {
     "name": "stdout",
     "output_type": "stream",
     "text": [
      "Model: ChemProd\n",
      " - number of variables: 27\n",
      "   - binary=0, integer=27, continuous=0\n",
      " - number of constraints: 19\n",
      "   - linear=19\n",
      " - parameters: defaults\n",
      " - problem type is: MIQP\n"
     ]
    }
   ],
   "source": [
    "mdl.print_information()\n",
    "\n",
    "assert mdl.solve(), \"!!! Solve of the model fails\""
   ]
  },
  {
   "cell_type": "code",
   "execution_count": 874,
   "metadata": {},
   "outputs": [],
   "source": [
    "prodsVol = np.zeros((NProds, NBuyers)).astype(int)\n",
    "prodsPrice = np.zeros((NProds, NBuyers)).astype(int)\n",
    "VolPrice = np.zeros((NProds, NBuyers)).astype(int)\n",
    "VolPricePort = []\n",
    "for i in range(NProds):\n",
    "    VolPricePort.append((d - z[i])*p[i].solution_value)\n",
    "    for j in range(NBuyers):\n",
    "        prodsVol[i,j] = x[i,j].solution_value\n",
    "#        prodsVol[i,j] = x[1,j].solution_value\n",
    "        prodsPrice[i,j] = y[i,j].solution_value\n",
    "        VolPrice[i,j] = (y[i,j].solution_value - k[i,j])*x[i,j].solution_value\n",
    "#       VolPrice[i,j] = (y[i,j].solution_value - k[i,j])*x[1,j].solution_value*demand[i,j]\n",
    "\n",
    "VolData = {'Producer1':prodsVol[0], 'Producer2':prodsVol[1], 'Producer3':prodsVol[2]}\n",
    "DecisionVol = pd.DataFrame(VolData, BuyIndex)\n",
    "\n",
    "PriceData = {'Producer1':prodsPrice[0], 'Producer2':prodsPrice[1], 'Producer3':prodsPrice[2]}\n",
    "DecisionPrice = pd.DataFrame(PriceData, BuyIndex)\n",
    "\n",
    "VolPriceData = {'Producer1':VolPrice[0], 'Producer2':VolPrice[1], 'Producer3':VolPrice[2]}\n",
    "DecisionVolPrice = pd.DataFrame(VolPriceData, BuyIndex)"
   ]
  },
  {
   "cell_type": "code",
   "execution_count": 875,
   "metadata": {},
   "outputs": [
    {
     "name": "stdout",
     "output_type": "stream",
     "text": [
      "\u001b[1mКоличество тонн продукта поставленное от i-го производителя j-му покупателю\n"
     ]
    },
    {
     "data": {
      "text/html": [
       "<div>\n",
       "<style scoped>\n",
       "    .dataframe tbody tr th:only-of-type {\n",
       "        vertical-align: middle;\n",
       "    }\n",
       "\n",
       "    .dataframe tbody tr th {\n",
       "        vertical-align: top;\n",
       "    }\n",
       "\n",
       "    .dataframe thead th {\n",
       "        text-align: right;\n",
       "    }\n",
       "</style>\n",
       "<table border=\"1\" class=\"dataframe\">\n",
       "  <thead>\n",
       "    <tr style=\"text-align: right;\">\n",
       "      <th></th>\n",
       "      <th>Producer1</th>\n",
       "      <th>Producer2</th>\n",
       "      <th>Producer3</th>\n",
       "    </tr>\n",
       "  </thead>\n",
       "  <tbody>\n",
       "    <tr>\n",
       "      <td>Buyer1</td>\n",
       "      <td>0</td>\n",
       "      <td>0</td>\n",
       "      <td>78</td>\n",
       "    </tr>\n",
       "    <tr>\n",
       "      <td>Buyer2</td>\n",
       "      <td>121</td>\n",
       "      <td>0</td>\n",
       "      <td>0</td>\n",
       "    </tr>\n",
       "    <tr>\n",
       "      <td>Buyer3</td>\n",
       "      <td>0</td>\n",
       "      <td>0</td>\n",
       "      <td>94</td>\n",
       "    </tr>\n",
       "    <tr>\n",
       "      <td>Buyer4</td>\n",
       "      <td>0</td>\n",
       "      <td>0</td>\n",
       "      <td>85</td>\n",
       "    </tr>\n",
       "  </tbody>\n",
       "</table>\n",
       "</div>"
      ],
      "text/plain": [
       "        Producer1  Producer2  Producer3\n",
       "Buyer1          0          0         78\n",
       "Buyer2        121          0          0\n",
       "Buyer3          0          0         94\n",
       "Buyer4          0          0         85"
      ]
     },
     "execution_count": 875,
     "metadata": {},
     "output_type": "execute_result"
    }
   ],
   "source": [
    "print(boldText+'Количество тонн продукта поставленное от i-го производителя j-му покупателю')\n",
    "DecisionVol"
   ]
  },
  {
   "cell_type": "code",
   "execution_count": 876,
   "metadata": {},
   "outputs": [
    {
     "name": "stdout",
     "output_type": "stream",
     "text": [
      "\u001b[1mЦена за тонну продукта i-го производителя j-му покупателю\n"
     ]
    },
    {
     "data": {
      "text/html": [
       "<div>\n",
       "<style scoped>\n",
       "    .dataframe tbody tr th:only-of-type {\n",
       "        vertical-align: middle;\n",
       "    }\n",
       "\n",
       "    .dataframe tbody tr th {\n",
       "        vertical-align: top;\n",
       "    }\n",
       "\n",
       "    .dataframe thead th {\n",
       "        text-align: right;\n",
       "    }\n",
       "</style>\n",
       "<table border=\"1\" class=\"dataframe\">\n",
       "  <thead>\n",
       "    <tr style=\"text-align: right;\">\n",
       "      <th></th>\n",
       "      <th>Producer1</th>\n",
       "      <th>Producer2</th>\n",
       "      <th>Producer3</th>\n",
       "    </tr>\n",
       "  </thead>\n",
       "  <tbody>\n",
       "    <tr>\n",
       "      <td>Buyer1</td>\n",
       "      <td>59</td>\n",
       "      <td>85</td>\n",
       "      <td>58</td>\n",
       "    </tr>\n",
       "    <tr>\n",
       "      <td>Buyer2</td>\n",
       "      <td>68</td>\n",
       "      <td>69</td>\n",
       "      <td>81</td>\n",
       "    </tr>\n",
       "    <tr>\n",
       "      <td>Buyer3</td>\n",
       "      <td>66</td>\n",
       "      <td>78</td>\n",
       "      <td>61</td>\n",
       "    </tr>\n",
       "    <tr>\n",
       "      <td>Buyer4</td>\n",
       "      <td>87</td>\n",
       "      <td>95</td>\n",
       "      <td>58</td>\n",
       "    </tr>\n",
       "  </tbody>\n",
       "</table>\n",
       "</div>"
      ],
      "text/plain": [
       "        Producer1  Producer2  Producer3\n",
       "Buyer1         59         85         58\n",
       "Buyer2         68         69         81\n",
       "Buyer3         66         78         61\n",
       "Buyer4         87         95         58"
      ]
     },
     "execution_count": 876,
     "metadata": {},
     "output_type": "execute_result"
    }
   ],
   "source": [
    "print(boldText+'Цена за тонну продукта i-го производителя j-му покупателю')\n",
    "DecisionPrice"
   ]
  },
  {
   "cell_type": "code",
   "execution_count": 877,
   "metadata": {},
   "outputs": [
    {
     "name": "stdout",
     "output_type": "stream",
     "text": [
      "\u001b[1mОбъём продаж i-го производителя j-му покупателю за вычетом затрат на доставку товара\n"
     ]
    },
    {
     "data": {
      "text/html": [
       "<div>\n",
       "<style scoped>\n",
       "    .dataframe tbody tr th:only-of-type {\n",
       "        vertical-align: middle;\n",
       "    }\n",
       "\n",
       "    .dataframe tbody tr th {\n",
       "        vertical-align: top;\n",
       "    }\n",
       "\n",
       "    .dataframe thead th {\n",
       "        text-align: right;\n",
       "    }\n",
       "</style>\n",
       "<table border=\"1\" class=\"dataframe\">\n",
       "  <thead>\n",
       "    <tr style=\"text-align: right;\">\n",
       "      <th></th>\n",
       "      <th>Producer1</th>\n",
       "      <th>Producer2</th>\n",
       "      <th>Producer3</th>\n",
       "    </tr>\n",
       "  </thead>\n",
       "  <tbody>\n",
       "    <tr>\n",
       "      <td>Buyer1</td>\n",
       "      <td>0</td>\n",
       "      <td>0</td>\n",
       "      <td>2574</td>\n",
       "    </tr>\n",
       "    <tr>\n",
       "      <td>Buyer2</td>\n",
       "      <td>3993</td>\n",
       "      <td>0</td>\n",
       "      <td>0</td>\n",
       "    </tr>\n",
       "    <tr>\n",
       "      <td>Buyer3</td>\n",
       "      <td>0</td>\n",
       "      <td>0</td>\n",
       "      <td>3102</td>\n",
       "    </tr>\n",
       "    <tr>\n",
       "      <td>Buyer4</td>\n",
       "      <td>0</td>\n",
       "      <td>0</td>\n",
       "      <td>2805</td>\n",
       "    </tr>\n",
       "  </tbody>\n",
       "</table>\n",
       "</div>"
      ],
      "text/plain": [
       "        Producer1  Producer2  Producer3\n",
       "Buyer1          0          0       2574\n",
       "Buyer2       3993          0          0\n",
       "Buyer3          0          0       3102\n",
       "Buyer4          0          0       2805"
      ]
     },
     "execution_count": 877,
     "metadata": {},
     "output_type": "execute_result"
    }
   ],
   "source": [
    "print(boldText+'Объём продаж i-го производителя j-му покупателю за вычетом затрат на доставку товара')\n",
    "DecisionVolPrice"
   ]
  },
  {
   "cell_type": "code",
   "execution_count": 878,
   "metadata": {},
   "outputs": [
    {
     "data": {
      "image/png": "[encoded data removed]",
      "text/plain": [
       "<Figure size 1008x288 with 3 Axes>"
      ]
     },
     "metadata": {
      "needs_background": "light"
     },
     "output_type": "display_data"
    }
   ],
   "source": [
    "f, axes = plt.subplots(nrows=1, ncols=3, figsize=(14, 4), sharex=True)\n",
    "\n",
    "sns.barplot(x=DecisionVolPrice.columns,\n",
    "            y=[DecisionVolPrice['Producer1'].sum(),\n",
    "               DecisionVolPrice['Producer2'].sum(),\n",
    "               DecisionVolPrice['Producer3'].sum()],\n",
    "            palette=\"deep\",\n",
    "            ax=axes[0]).set_title('Объём продаж покупателям')\n",
    "\n",
    "sns.barplot(x=DecisionVolPrice.columns,\n",
    "            y=[VolPricePort[0],\n",
    "               VolPricePort[1],\n",
    "               VolPricePort[2]],\n",
    "            palette=\"deep\",\n",
    "            ax=axes[1]).set_title('Объём продаж в порт')\n",
    "\n",
    "p1 = DecisionVolPrice['Producer1'].sum()+VolPricePort[0]\n",
    "p2 = DecisionVolPrice['Producer2'].sum()+VolPricePort[1]\n",
    "p3 = DecisionVolPrice['Producer3'].sum()+VolPricePort[2]\n",
    "sns.barplot(x=DecisionVolPrice.columns,\n",
    "            y=[p1,p2,p3],\n",
    "            palette=\"deep\",\n",
    "            ax=axes[2]).set_title('Суммарный объём продаж')\n",
    "\n",
    "plt.show()"
   ]
  },
  {
   "cell_type": "code",
   "execution_count": 879,
   "metadata": {},
   "outputs": [
    {
     "data": {
      "image/png": "[encoded data removed]",
      "text/plain": [
       "<Figure size 1152x576 with 2 Axes>"
      ]
     },
     "metadata": {
      "needs_background": "light"
     },
     "output_type": "display_data"
    }
   ],
   "source": [
    "G = nx.Graph()\n",
    "#Морской порт\n",
    "G.add_edge('P1', 'Pt', w=VolPricePort[0])\n",
    "G.add_edge('P2', 'Pt', w=VolPricePort[1])\n",
    "G.add_edge('P3', 'Pt', w=VolPricePort[2])\n",
    "#\n",
    "G.add_edge('P1', 'B1', w=DecisionVolPrice['Producer1']['Buyer1'])\n",
    "G.add_edge('P2', 'B1', w=DecisionVolPrice['Producer2']['Buyer1'])\n",
    "G.add_edge('P3', 'B1', w=DecisionVolPrice['Producer3']['Buyer1'])\n",
    "\n",
    "G.add_edge('P1', 'B2', w=DecisionVolPrice['Producer1']['Buyer2'])\n",
    "G.add_edge('P2', 'B2', w=DecisionVolPrice['Producer2']['Buyer2'])\n",
    "G.add_edge('P3', 'B2', w=DecisionVolPrice['Producer3']['Buyer2'])\n",
    "\n",
    "G.add_edge('P1', 'B3', w=DecisionVolPrice['Producer1']['Buyer3'])\n",
    "G.add_edge('P2', 'B3', w=DecisionVolPrice['Producer2']['Buyer3'])\n",
    "G.add_edge('P3', 'B3', w=DecisionVolPrice['Producer3']['Buyer3'])\n",
    "\n",
    "G.add_edge('P1', 'B4', w=DecisionVolPrice['Producer1']['Buyer4'])\n",
    "G.add_edge('P2', 'B4', w=DecisionVolPrice['Producer2']['Buyer4'])\n",
    "G.add_edge('P3', 'B4', w=DecisionVolPrice['Producer3']['Buyer4'])\n",
    "\n",
    "elarge = [(u, v) for (u, v, d) in G.edges(data=True) if d['w'] > 0]\n",
    "esmall = [(u, v) for (u, v, d) in G.edges(data=True) if d['w'] == 0]\n",
    "\n",
    "pos = {\n",
    "       'P1':[-1,1],'Pt':[0,2],\n",
    "       'P2':[0,1], 'Pt':[0,2],\n",
    "       'P3':[1,1], 'Pt':[0,2], \n",
    "    \n",
    "       'P1':[-1,1],'B1':[-1.5,0],\n",
    "       'P2':[0,1], 'B1':[-1.5,0],\n",
    "       'P3':[1,1], 'B1':[-1.5,0],\n",
    "    \n",
    "       'P1':[-1,1],'B2':[-0.5,0],\n",
    "       'P2':[0,1], 'B2':[-0.5,0],\n",
    "       'P3':[1,1], 'B2':[-0.5,0],\n",
    "    \n",
    "       'P1':[-1,1],'B3':[0.5,0],\n",
    "       'P2':[0,1], 'B3':[0.5,0],\n",
    "       'P3':[1,1], 'B3':[0.5,0],\n",
    "    \n",
    "       'P1':[-1,1],'B4':[1.5,0],\n",
    "       'P2':[0,1], 'B4':[1.5,0],\n",
    "       'P3':[1,1], 'B4':[1.5,0]\n",
    "       }\n",
    "\n",
    "plt.figure(figsize=(16, 8))\n",
    "\n",
    "plt.subplot(1,2,1)\n",
    "\n",
    "nodes_color = ('darkmagenta','darkblue','darkmagenta','darkmagenta','darkgreen','darkgreen','darkgreen','darkgreen')\n",
    "#nodes_size = (p1, 2500, p2, p3, 2500, 2500, 2500, 2500)\n",
    "nx.draw_networkx_nodes(G, pos=pos, node_size=2500, node_color=nodes_color)\n",
    "\n",
    "nx.draw_networkx_edges(G, pos=pos, edgelist=elarge,\n",
    "                       width=5, edge_color='black')\n",
    "\n",
    "nx.draw_networkx_edges(G, pos=pos, edgelist=esmall,\n",
    "                       width=5, alpha=0.4, edge_color='red', style='dashed')\n",
    "\n",
    "edge_values = []\n",
    "for (u, v, d) in G.edges(data=True):\n",
    "    if d['w']>0:\n",
    "        edge_values.append(int(d['w']))\n",
    "        \n",
    "labels = dict(zip(elarge, edge_values))\n",
    "\n",
    "nx.draw_networkx_edge_labels(G, pos=pos, edge_labels=labels, font_size=12, font_color='black')\n",
    "\n",
    "# labels\n",
    "nx.draw_networkx_labels(G, pos=pos, font_size=20, font_color='white')\n",
    "\n",
    "plt.axis('off')\n",
    "plt.subplot(1,2,2)\n",
    "plt.grid(True)\n",
    "sns.barplot(x=DecisionVolPrice.columns,\n",
    "            y=[p1,p2,p3],\n",
    "            palette=\"deep\").set_title('Суммарный объём продаж')\n",
    "\n",
    "#plt.axis('off')\n",
    "#print(boldText+'Визуализация модели\\n')\n",
    "plt.show()"
   ]
  },
  {
   "cell_type": "code",
   "execution_count": null,
   "metadata": {},
   "outputs": [],
   "source": []
  }
 ],
 "metadata": {
  "kernelspec": {
   "display_name": "Python 3",
   "language": "python",
   "name": "python3"
  },
  "language_info": {
   "codemirror_mode": {
    "name": "ipython",
    "version": 3
   },
   "file_extension": ".py",
   "mimetype": "text/x-python",
   "name": "python",
   "nbconvert_exporter": "python",
   "pygments_lexer": "ipython3",
   "version": "3.7.4"
  }
 },
 "nbformat": 4,
 "nbformat_minor": 2
}
