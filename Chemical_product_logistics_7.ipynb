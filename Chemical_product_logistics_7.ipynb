{
 "cells": [
  {
   "cell_type": "markdown",
   "metadata": {},
   "source": [
    "# Логистика химических продуктов"
   ]
  },
  {
   "cell_type": "markdown",
   "metadata": {},
   "source": [
    "Задача относится к области моделирования ценообразования на\n",
    "олигополистических рынках с использованием элементов теории игр. При этом\n",
    "не требуется каких-то специальных знаний по теории игр, задача решается из\n",
    "общих соображений.\n",
    "Рассмотрим гипотетический рынок химического продукта, используемого\n",
    "в промышленности для изготовления растворителей и синтеза полимеров.\n",
    "Допустим, что имеется три производителя данного продукта и четыре крупных\n",
    "покупателя, другие покупатели являются слишком мелкими и их влиянием\n",
    "можно пренебречь. Предположим, что все три производителя производят\n",
    "абсолютно одинаковый продукт и у покупателей на внутреннем рынке нет\n",
    "никаких предпочтений относительно выбора того или иного производителя\n",
    "кроме цены.\n",
    "Поставки продукта от производителя покупателям производятся по\n",
    "железной дороге в цистернах за счет производителя, т.е. расходы на перевозку\n",
    "прибавляются к расходам производителя. Тариф на перевозку зависит от\n",
    "расстояния доставки. Каждый производитель может доставить продукт до\n",
    "любого покупателя, при этом понеся соответствующие расходы за\n",
    "транспортировку. Также у любого поставщика есть возможность доставить\n",
    "любое количество своего продукта по железной дороге в морской порт, откуда\n",
    "его можно продать зарубежным покупателям по некоторой фиксированной цене,\n",
    "не зависящей от количества продукта (т.е. цена продажи 1 тонны и 10 000 тонн\n",
    "продукта будет одинаковой). Предположим, что все поставщики действуют\n",
    "рационально. Также примем, что если один из них может повысить свою\n",
    "прибыль понизив цену и забрав долю рынка у конкурентов, то он непременно\n",
    "сделает это. Цена, по которой можно продать продукт в порту, составляет 50\n",
    "долларов за тонну.\n",
    "Покупателями продукта на внутреннем рынке являются крупные\n",
    "промышленные компании. При этом потребности покупателей неэластичны по\n",
    "цене в диапазоне до 100 долларов за тонну продукта, а при большей цене\n",
    "покупатели откажутся от покупки. Каждый покупатель приобретает\n",
    "фиксированное количество продукта каждый месяц. Примем, что покупатель\n",
    "гарантированно меняет поставщика, если ему предлагается цена на ниже той,\n",
    "по которой он покупает в настоящее время.\n",
    "Данные по рынку представлены в таблицах 1-3."
   ]
  },
  {
   "cell_type": "markdown",
   "metadata": {},
   "source": [
    "# Задача"
   ]
  },
  {
   "cell_type": "markdown",
   "metadata": {},
   "source": [
    " Задача заключается в том, чтобы определить, кто у кого и по каким ценам\n",
    "будет покупать продукт после того, как рынок придет в состояние равновесия,\n",
    "т.е. когда ни у кого из производителей не будет мотивации менять цены или\n",
    "объемы поставок. Важным моментом является то, что необходимо найти именно\n",
    "верхнюю границу такого равновесия, т.е. набор максимальных возможных\n",
    "равновесных цен поставок. На рынке, работающем по описанным правилам,\n",
    "цены сами придут к уровню максимальных, если в начальный момент они были\n",
    "заведомо больше (скажем, если максимальные равновесные цены находятся в\n",
    "районе 50 долларов, а в начальный момент времени они были, допустим, 70\n",
    "долларов)."
   ]
  },
  {
   "cell_type": "markdown",
   "metadata": {},
   "source": [
    "# Библиотеки"
   ]
  },
  {
   "cell_type": "code",
   "execution_count": 141,
   "metadata": {},
   "outputs": [],
   "source": [
    "import pandas as pd\n",
    "from cvxopt.modeling import variable, op\n",
    "import matplotlib.pyplot as plt\n",
    "import numpy as np\n",
    "import seaborn as sns\n",
    "import networkx as nx\n",
    "\n",
    "import time\n",
    "\n",
    "import warnings\n",
    "\n",
    "warnings.filterwarnings('ignore')\n",
    "\n",
    "boldText = '\\033[1m'"
   ]
  },
  {
   "cell_type": "code",
   "execution_count": 142,
   "metadata": {},
   "outputs": [],
   "source": [
    "#pip install networkx"
   ]
  },
  {
   "cell_type": "markdown",
   "metadata": {},
   "source": [
    "# 1. Исходные данные модели"
   ]
  },
  {
   "cell_type": "code",
   "execution_count": 143,
   "metadata": {},
   "outputs": [],
   "source": [
    "# Данные по поставщикам\n",
    "NProds = 21            #Количество производителей\n",
    "NBuyers = 21           #Количество покупателей\n",
    "d = 50                  #Константная цена товара в Порту\n",
    "BuyersMaxPrice = 100    #максимальная цена"
   ]
  },
  {
   "cell_type": "markdown",
   "metadata": {},
   "source": [
    "### 1.1 Производители"
   ]
  },
  {
   "cell_type": "code",
   "execution_count": 144,
   "metadata": {},
   "outputs": [],
   "source": [
    "ProdIndex=[]\n",
    "for i in range(NProds):\n",
    "    ProdIndex.append('P'+ str(i))\n",
    "\n",
    "Possibilities = np.random.uniform(low=10000, high=30000, size=NProds).astype(int)\n",
    "SupplyPort = np.random.uniform(low=10, high=20, size=NProds).astype(int)\n",
    "ProdCost = np.random.uniform(low=10, high=30, size=NProds).astype(int)\n",
    "PortPrice = np.empty(NProds).astype(int)\n",
    "PortPrice.fill(d)\n",
    "Overhead = SupplyPort+ProdCost\n",
    "\n",
    "ProdData = {'Possibilities': Possibilities,\n",
    "            'SupplyPort': SupplyPort,\n",
    "            'ProdCost': ProdCost,\n",
    "            'PortPrice': PortPrice,\n",
    "            'Overhead': Overhead\n",
    "             }\n",
    "Producers = pd.DataFrame(ProdData, ProdIndex)"
   ]
  },
  {
   "cell_type": "code",
   "execution_count": 145,
   "metadata": {},
   "outputs": [
    {
     "name": "stdout",
     "output_type": "stream",
     "text": [
      "\u001b[1mТаблица 1. Данные по поставщикам\n"
     ]
    },
    {
     "data": {
      "text/html": [
       "<div>\n",
       "<style scoped>\n",
       "    .dataframe tbody tr th:only-of-type {\n",
       "        vertical-align: middle;\n",
       "    }\n",
       "\n",
       "    .dataframe tbody tr th {\n",
       "        vertical-align: top;\n",
       "    }\n",
       "\n",
       "    .dataframe thead th {\n",
       "        text-align: right;\n",
       "    }\n",
       "</style>\n",
       "<table border=\"1\" class=\"dataframe\">\n",
       "  <thead>\n",
       "    <tr style=\"text-align: right;\">\n",
       "      <th></th>\n",
       "      <th>Possibilities</th>\n",
       "      <th>SupplyPort</th>\n",
       "      <th>ProdCost</th>\n",
       "      <th>PortPrice</th>\n",
       "      <th>Overhead</th>\n",
       "    </tr>\n",
       "  </thead>\n",
       "  <tbody>\n",
       "    <tr>\n",
       "      <td>P0</td>\n",
       "      <td>25706</td>\n",
       "      <td>12</td>\n",
       "      <td>26</td>\n",
       "      <td>50</td>\n",
       "      <td>38</td>\n",
       "    </tr>\n",
       "    <tr>\n",
       "      <td>P1</td>\n",
       "      <td>14056</td>\n",
       "      <td>18</td>\n",
       "      <td>21</td>\n",
       "      <td>50</td>\n",
       "      <td>39</td>\n",
       "    </tr>\n",
       "    <tr>\n",
       "      <td>P2</td>\n",
       "      <td>26428</td>\n",
       "      <td>14</td>\n",
       "      <td>13</td>\n",
       "      <td>50</td>\n",
       "      <td>27</td>\n",
       "    </tr>\n",
       "    <tr>\n",
       "      <td>P3</td>\n",
       "      <td>16870</td>\n",
       "      <td>10</td>\n",
       "      <td>25</td>\n",
       "      <td>50</td>\n",
       "      <td>35</td>\n",
       "    </tr>\n",
       "    <tr>\n",
       "      <td>P4</td>\n",
       "      <td>23999</td>\n",
       "      <td>14</td>\n",
       "      <td>21</td>\n",
       "      <td>50</td>\n",
       "      <td>35</td>\n",
       "    </tr>\n",
       "  </tbody>\n",
       "</table>\n",
       "</div>"
      ],
      "text/plain": [
       "    Possibilities  SupplyPort  ProdCost  PortPrice  Overhead\n",
       "P0          25706          12        26         50        38\n",
       "P1          14056          18        21         50        39\n",
       "P2          26428          14        13         50        27\n",
       "P3          16870          10        25         50        35\n",
       "P4          23999          14        21         50        35"
      ]
     },
     "execution_count": 145,
     "metadata": {},
     "output_type": "execute_result"
    }
   ],
   "source": [
    "print(boldText+'Таблица 1. Данные по поставщикам')\n",
    "Producers.head()"
   ]
  },
  {
   "cell_type": "code",
   "execution_count": 146,
   "metadata": {},
   "outputs": [
    {
     "data": {
      "image/png": "[encoded data removed]",
      "text/plain": [
       "<Figure size 648x648 with 4 Axes>"
      ]
     },
     "metadata": {
      "needs_background": "light"
     },
     "output_type": "display_data"
    }
   ],
   "source": [
    "f, axes = plt.subplots(nrows=2, ncols=2, figsize=(9, 9), sharex=True)\n",
    "sns.despine(left=True)\n",
    "\n",
    "sns.barplot(x=Producers.index,\n",
    "            y='Possibilities',\n",
    "            data=Producers,\n",
    "            palette=\"deep\",\n",
    "            ax=axes[0, 0]).set_title('Производственные возможности')\n",
    "\n",
    "sns.barplot(x=Producers.index,\n",
    "            y='SupplyPort',\n",
    "            data=Producers,\n",
    "            palette=\"deep\",\n",
    "            ax=axes[0, 1]).set_title('Стоимость доставки в порт')\n",
    "\n",
    "sns.barplot(x=Producers.index,\n",
    "            y='ProdCost',\n",
    "            data=Producers,\n",
    "            palette=\"deep\",\n",
    "            ax=axes[1, 0]).set_title('Себестоимость производства')\n",
    "\n",
    "sns.barplot(x=Producers.index,\n",
    "            y='PortPrice',\n",
    "            data=Producers,\n",
    "            palette=\"deep\",\n",
    "            ax=axes[1, 1]).set_title('Цена в порту')\n",
    "\n",
    "plt.show()"
   ]
  },
  {
   "cell_type": "code",
   "execution_count": 147,
   "metadata": {},
   "outputs": [
    {
     "data": {
      "image/png": "[encoded data removed]",
      "text/plain": [
       "<Figure size 360x360 with 1 Axes>"
      ]
     },
     "metadata": {
      "needs_background": "light"
     },
     "output_type": "display_data"
    }
   ],
   "source": [
    "plt.figure(figsize=(5,5))\n",
    "plt.grid()\n",
    "plt.title('Себестоимость + Доставка в порт')\n",
    "sns.barplot(x=Producers.index,\n",
    "            y='Overhead',\n",
    "            data=Producers,\n",
    "            palette=\"deep\")\n",
    "plt.show()"
   ]
  },
  {
   "cell_type": "markdown",
   "metadata": {},
   "source": [
    "Чем ниже этот паказатель, тем в более широком диапазоне продавец может варьироваь ценой при поставке продуктов покупателям"
   ]
  },
  {
   "cell_type": "markdown",
   "metadata": {},
   "source": [
    "### 1.2 Покупатели"
   ]
  },
  {
   "cell_type": "code",
   "execution_count": 148,
   "metadata": {},
   "outputs": [],
   "source": [
    "# Месячные потребности покупателей, тонн\n",
    "BuyIndex = []\n",
    "for j in range(NBuyers):\n",
    "    BuyIndex.append('B'+ str(j))\n",
    "\n",
    "Scenario1 = np.random.uniform(low=50, high=200, size=NBuyers).astype(int)\n",
    "Scenario2 = np.random.uniform(low=150, high=500, size=NBuyers).astype(int)\n",
    "\n",
    "BuyData = {'Scenario1': Scenario1, 'Scenario2': Scenario2}\n",
    "\n",
    "Buyers = pd.DataFrame(BuyData, BuyIndex)"
   ]
  },
  {
   "cell_type": "code",
   "execution_count": 149,
   "metadata": {},
   "outputs": [
    {
     "name": "stdout",
     "output_type": "stream",
     "text": [
      "\u001b[1mТаблица 2. Месячные потребности покупателей, тонн\n"
     ]
    },
    {
     "data": {
      "text/html": [
       "<div>\n",
       "<style scoped>\n",
       "    .dataframe tbody tr th:only-of-type {\n",
       "        vertical-align: middle;\n",
       "    }\n",
       "\n",
       "    .dataframe tbody tr th {\n",
       "        vertical-align: top;\n",
       "    }\n",
       "\n",
       "    .dataframe thead th {\n",
       "        text-align: right;\n",
       "    }\n",
       "</style>\n",
       "<table border=\"1\" class=\"dataframe\">\n",
       "  <thead>\n",
       "    <tr style=\"text-align: right;\">\n",
       "      <th></th>\n",
       "      <th>Scenario1</th>\n",
       "      <th>Scenario2</th>\n",
       "    </tr>\n",
       "  </thead>\n",
       "  <tbody>\n",
       "    <tr>\n",
       "      <td>B0</td>\n",
       "      <td>98</td>\n",
       "      <td>257</td>\n",
       "    </tr>\n",
       "    <tr>\n",
       "      <td>B1</td>\n",
       "      <td>101</td>\n",
       "      <td>173</td>\n",
       "    </tr>\n",
       "    <tr>\n",
       "      <td>B2</td>\n",
       "      <td>139</td>\n",
       "      <td>308</td>\n",
       "    </tr>\n",
       "    <tr>\n",
       "      <td>B3</td>\n",
       "      <td>64</td>\n",
       "      <td>476</td>\n",
       "    </tr>\n",
       "    <tr>\n",
       "      <td>B4</td>\n",
       "      <td>156</td>\n",
       "      <td>442</td>\n",
       "    </tr>\n",
       "  </tbody>\n",
       "</table>\n",
       "</div>"
      ],
      "text/plain": [
       "    Scenario1  Scenario2\n",
       "B0         98        257\n",
       "B1        101        173\n",
       "B2        139        308\n",
       "B3         64        476\n",
       "B4        156        442"
      ]
     },
     "execution_count": 149,
     "metadata": {},
     "output_type": "execute_result"
    }
   ],
   "source": [
    "print(boldText+'Таблица 2. Месячные потребности покупателей, тонн')\n",
    "Buyers.head()"
   ]
  },
  {
   "cell_type": "code",
   "execution_count": 150,
   "metadata": {},
   "outputs": [
    {
     "name": "stdout",
     "output_type": "stream",
     "text": [
      "Scenario1\n"
     ]
    }
   ],
   "source": [
    "#выбор сценария\n",
    "Scenario = Buyers.columns[0] # 0 - Scenario1\n",
    "                             # 1 - Scenario2\n",
    "print(Scenario)"
   ]
  },
  {
   "cell_type": "code",
   "execution_count": 151,
   "metadata": {},
   "outputs": [
    {
     "data": {
      "image/png": "[encoded data removed]",
      "text/plain": [
       "<Figure size 432x288 with 1 Axes>"
      ]
     },
     "metadata": {
      "needs_background": "light"
     },
     "output_type": "display_data"
    }
   ],
   "source": [
    "sns.barplot(x=Buyers.index,\n",
    "            y='Scenario1',\n",
    "            data=Buyers,\n",
    "            palette=\"deep\").set_title('Потребности покупателей')\n",
    "plt.show()"
   ]
  },
  {
   "cell_type": "code",
   "execution_count": 152,
   "metadata": {},
   "outputs": [],
   "source": [
    "# Тарифы на железнодорожные перевозки\n",
    "RailData = np.random.uniform(low=10, high=20, size=(NBuyers, NProds)).astype(int)\n",
    "RailDataDict = dict(zip(ProdIndex, RailData.T))\n",
    "RailFares = pd.DataFrame(RailDataDict, BuyIndex)"
   ]
  },
  {
   "cell_type": "code",
   "execution_count": 153,
   "metadata": {},
   "outputs": [
    {
     "name": "stdout",
     "output_type": "stream",
     "text": [
      "\u001b[1mТаблица 3. Тарифы на железнодорожные перевозки\n"
     ]
    },
    {
     "data": {
      "text/html": [
       "<div>\n",
       "<style scoped>\n",
       "    .dataframe tbody tr th:only-of-type {\n",
       "        vertical-align: middle;\n",
       "    }\n",
       "\n",
       "    .dataframe tbody tr th {\n",
       "        vertical-align: top;\n",
       "    }\n",
       "\n",
       "    .dataframe thead th {\n",
       "        text-align: right;\n",
       "    }\n",
       "</style>\n",
       "<table border=\"1\" class=\"dataframe\">\n",
       "  <thead>\n",
       "    <tr style=\"text-align: right;\">\n",
       "      <th></th>\n",
       "      <th>P0</th>\n",
       "      <th>P1</th>\n",
       "      <th>P2</th>\n",
       "      <th>P3</th>\n",
       "      <th>P4</th>\n",
       "      <th>P5</th>\n",
       "      <th>P6</th>\n",
       "      <th>P7</th>\n",
       "      <th>P8</th>\n",
       "      <th>P9</th>\n",
       "      <th>...</th>\n",
       "      <th>P11</th>\n",
       "      <th>P12</th>\n",
       "      <th>P13</th>\n",
       "      <th>P14</th>\n",
       "      <th>P15</th>\n",
       "      <th>P16</th>\n",
       "      <th>P17</th>\n",
       "      <th>P18</th>\n",
       "      <th>P19</th>\n",
       "      <th>P20</th>\n",
       "    </tr>\n",
       "  </thead>\n",
       "  <tbody>\n",
       "    <tr>\n",
       "      <td>B0</td>\n",
       "      <td>10</td>\n",
       "      <td>15</td>\n",
       "      <td>18</td>\n",
       "      <td>18</td>\n",
       "      <td>16</td>\n",
       "      <td>11</td>\n",
       "      <td>18</td>\n",
       "      <td>11</td>\n",
       "      <td>16</td>\n",
       "      <td>15</td>\n",
       "      <td>...</td>\n",
       "      <td>11</td>\n",
       "      <td>14</td>\n",
       "      <td>14</td>\n",
       "      <td>14</td>\n",
       "      <td>19</td>\n",
       "      <td>17</td>\n",
       "      <td>14</td>\n",
       "      <td>17</td>\n",
       "      <td>12</td>\n",
       "      <td>14</td>\n",
       "    </tr>\n",
       "    <tr>\n",
       "      <td>B1</td>\n",
       "      <td>17</td>\n",
       "      <td>15</td>\n",
       "      <td>14</td>\n",
       "      <td>14</td>\n",
       "      <td>13</td>\n",
       "      <td>16</td>\n",
       "      <td>10</td>\n",
       "      <td>12</td>\n",
       "      <td>13</td>\n",
       "      <td>13</td>\n",
       "      <td>...</td>\n",
       "      <td>12</td>\n",
       "      <td>12</td>\n",
       "      <td>10</td>\n",
       "      <td>12</td>\n",
       "      <td>18</td>\n",
       "      <td>16</td>\n",
       "      <td>17</td>\n",
       "      <td>10</td>\n",
       "      <td>18</td>\n",
       "      <td>11</td>\n",
       "    </tr>\n",
       "    <tr>\n",
       "      <td>B2</td>\n",
       "      <td>19</td>\n",
       "      <td>10</td>\n",
       "      <td>15</td>\n",
       "      <td>18</td>\n",
       "      <td>19</td>\n",
       "      <td>18</td>\n",
       "      <td>19</td>\n",
       "      <td>12</td>\n",
       "      <td>15</td>\n",
       "      <td>12</td>\n",
       "      <td>...</td>\n",
       "      <td>13</td>\n",
       "      <td>12</td>\n",
       "      <td>15</td>\n",
       "      <td>13</td>\n",
       "      <td>18</td>\n",
       "      <td>16</td>\n",
       "      <td>19</td>\n",
       "      <td>19</td>\n",
       "      <td>16</td>\n",
       "      <td>16</td>\n",
       "    </tr>\n",
       "    <tr>\n",
       "      <td>B3</td>\n",
       "      <td>12</td>\n",
       "      <td>11</td>\n",
       "      <td>18</td>\n",
       "      <td>16</td>\n",
       "      <td>13</td>\n",
       "      <td>12</td>\n",
       "      <td>19</td>\n",
       "      <td>18</td>\n",
       "      <td>19</td>\n",
       "      <td>15</td>\n",
       "      <td>...</td>\n",
       "      <td>12</td>\n",
       "      <td>10</td>\n",
       "      <td>13</td>\n",
       "      <td>10</td>\n",
       "      <td>17</td>\n",
       "      <td>17</td>\n",
       "      <td>18</td>\n",
       "      <td>14</td>\n",
       "      <td>18</td>\n",
       "      <td>19</td>\n",
       "    </tr>\n",
       "    <tr>\n",
       "      <td>B4</td>\n",
       "      <td>14</td>\n",
       "      <td>13</td>\n",
       "      <td>17</td>\n",
       "      <td>11</td>\n",
       "      <td>16</td>\n",
       "      <td>17</td>\n",
       "      <td>19</td>\n",
       "      <td>17</td>\n",
       "      <td>12</td>\n",
       "      <td>17</td>\n",
       "      <td>...</td>\n",
       "      <td>10</td>\n",
       "      <td>16</td>\n",
       "      <td>12</td>\n",
       "      <td>12</td>\n",
       "      <td>18</td>\n",
       "      <td>15</td>\n",
       "      <td>16</td>\n",
       "      <td>13</td>\n",
       "      <td>15</td>\n",
       "      <td>15</td>\n",
       "    </tr>\n",
       "  </tbody>\n",
       "</table>\n",
       "<p>5 rows × 21 columns</p>\n",
       "</div>"
      ],
      "text/plain": [
       "    P0  P1  P2  P3  P4  P5  P6  P7  P8  P9  ...  P11  P12  P13  P14  P15  P16  \\\n",
       "B0  10  15  18  18  16  11  18  11  16  15  ...   11   14   14   14   19   17   \n",
       "B1  17  15  14  14  13  16  10  12  13  13  ...   12   12   10   12   18   16   \n",
       "B2  19  10  15  18  19  18  19  12  15  12  ...   13   12   15   13   18   16   \n",
       "B3  12  11  18  16  13  12  19  18  19  15  ...   12   10   13   10   17   17   \n",
       "B4  14  13  17  11  16  17  19  17  12  17  ...   10   16   12   12   18   15   \n",
       "\n",
       "    P17  P18  P19  P20  \n",
       "B0   14   17   12   14  \n",
       "B1   17   10   18   11  \n",
       "B2   19   19   16   16  \n",
       "B3   18   14   18   19  \n",
       "B4   16   13   15   15  \n",
       "\n",
       "[5 rows x 21 columns]"
      ]
     },
     "execution_count": 153,
     "metadata": {},
     "output_type": "execute_result"
    }
   ],
   "source": [
    "print(boldText+'Таблица 3. Тарифы на железнодорожные перевозки')\n",
    "RailFares.head()"
   ]
  },
  {
   "cell_type": "code",
   "execution_count": 154,
   "metadata": {},
   "outputs": [
    {
     "name": "stdout",
     "output_type": "stream",
     "text": [
      "\u001b[1mТарифы на ЖД перевозки\n"
     ]
    },
    {
     "data": {
      "image/png": "[encoded data removed]",
      "text/plain": [
       "<Figure size 1152x288 with 3 Axes>"
      ]
     },
     "metadata": {
      "needs_background": "light"
     },
     "output_type": "display_data"
    }
   ],
   "source": [
    "f, axes = plt.subplots(nrows=1, ncols=3, figsize=(16, 4), sharex=True)\n",
    "#sns.despine(left=True)\n",
    "\n",
    "sns.barplot(x=RailFares.index,\n",
    "            y='P0',\n",
    "            data=RailFares,\n",
    "            palette=\"deep\",\n",
    "            ax=axes[0]).set_title('Производитель 1')\n",
    "\n",
    "sns.barplot(x=RailFares.index,\n",
    "            y='P1',\n",
    "            data=RailFares,\n",
    "            palette=\"deep\",\n",
    "            ax=axes[1]).set_title('Производитель 2')\n",
    "\n",
    "sns.barplot(x=RailFares.index,\n",
    "            y='P2',\n",
    "            data=RailFares,\n",
    "            palette=\"deep\",\n",
    "            ax=axes[2]).set_title('Производитель 3')\n",
    "\n",
    "print(boldText+'Тарифы на ЖД перевозки')\n",
    "plt.show()"
   ]
  },
  {
   "cell_type": "code",
   "execution_count": 155,
   "metadata": {},
   "outputs": [],
   "source": [
    "totCost = RailFares + Producers['ProdCost']"
   ]
  },
  {
   "cell_type": "code",
   "execution_count": 156,
   "metadata": {},
   "outputs": [
    {
     "name": "stdout",
     "output_type": "stream",
     "text": [
      "\u001b[1mТарифы на железнодорожные перевозки + себестоимость производства\n"
     ]
    },
    {
     "data": {
      "text/html": [
       "<div>\n",
       "<style scoped>\n",
       "    .dataframe tbody tr th:only-of-type {\n",
       "        vertical-align: middle;\n",
       "    }\n",
       "\n",
       "    .dataframe tbody tr th {\n",
       "        vertical-align: top;\n",
       "    }\n",
       "\n",
       "    .dataframe thead th {\n",
       "        text-align: right;\n",
       "    }\n",
       "</style>\n",
       "<table border=\"1\" class=\"dataframe\">\n",
       "  <thead>\n",
       "    <tr style=\"text-align: right;\">\n",
       "      <th></th>\n",
       "      <th>P0</th>\n",
       "      <th>P1</th>\n",
       "      <th>P2</th>\n",
       "      <th>P3</th>\n",
       "      <th>P4</th>\n",
       "      <th>P5</th>\n",
       "      <th>P6</th>\n",
       "      <th>P7</th>\n",
       "      <th>P8</th>\n",
       "      <th>P9</th>\n",
       "      <th>...</th>\n",
       "      <th>P11</th>\n",
       "      <th>P12</th>\n",
       "      <th>P13</th>\n",
       "      <th>P14</th>\n",
       "      <th>P15</th>\n",
       "      <th>P16</th>\n",
       "      <th>P17</th>\n",
       "      <th>P18</th>\n",
       "      <th>P19</th>\n",
       "      <th>P20</th>\n",
       "    </tr>\n",
       "  </thead>\n",
       "  <tbody>\n",
       "    <tr>\n",
       "      <td>B0</td>\n",
       "      <td>36</td>\n",
       "      <td>36</td>\n",
       "      <td>31</td>\n",
       "      <td>43</td>\n",
       "      <td>37</td>\n",
       "      <td>32</td>\n",
       "      <td>30</td>\n",
       "      <td>29</td>\n",
       "      <td>37</td>\n",
       "      <td>32</td>\n",
       "      <td>...</td>\n",
       "      <td>26</td>\n",
       "      <td>35</td>\n",
       "      <td>29</td>\n",
       "      <td>28</td>\n",
       "      <td>46</td>\n",
       "      <td>35</td>\n",
       "      <td>24</td>\n",
       "      <td>45</td>\n",
       "      <td>23</td>\n",
       "      <td>41</td>\n",
       "    </tr>\n",
       "    <tr>\n",
       "      <td>B1</td>\n",
       "      <td>43</td>\n",
       "      <td>36</td>\n",
       "      <td>27</td>\n",
       "      <td>39</td>\n",
       "      <td>34</td>\n",
       "      <td>37</td>\n",
       "      <td>22</td>\n",
       "      <td>30</td>\n",
       "      <td>34</td>\n",
       "      <td>30</td>\n",
       "      <td>...</td>\n",
       "      <td>27</td>\n",
       "      <td>33</td>\n",
       "      <td>25</td>\n",
       "      <td>26</td>\n",
       "      <td>45</td>\n",
       "      <td>34</td>\n",
       "      <td>27</td>\n",
       "      <td>38</td>\n",
       "      <td>29</td>\n",
       "      <td>38</td>\n",
       "    </tr>\n",
       "    <tr>\n",
       "      <td>B2</td>\n",
       "      <td>45</td>\n",
       "      <td>31</td>\n",
       "      <td>28</td>\n",
       "      <td>43</td>\n",
       "      <td>40</td>\n",
       "      <td>39</td>\n",
       "      <td>31</td>\n",
       "      <td>30</td>\n",
       "      <td>36</td>\n",
       "      <td>29</td>\n",
       "      <td>...</td>\n",
       "      <td>28</td>\n",
       "      <td>33</td>\n",
       "      <td>30</td>\n",
       "      <td>27</td>\n",
       "      <td>45</td>\n",
       "      <td>34</td>\n",
       "      <td>29</td>\n",
       "      <td>47</td>\n",
       "      <td>27</td>\n",
       "      <td>43</td>\n",
       "    </tr>\n",
       "    <tr>\n",
       "      <td>B3</td>\n",
       "      <td>38</td>\n",
       "      <td>32</td>\n",
       "      <td>31</td>\n",
       "      <td>41</td>\n",
       "      <td>34</td>\n",
       "      <td>33</td>\n",
       "      <td>31</td>\n",
       "      <td>36</td>\n",
       "      <td>40</td>\n",
       "      <td>32</td>\n",
       "      <td>...</td>\n",
       "      <td>27</td>\n",
       "      <td>31</td>\n",
       "      <td>28</td>\n",
       "      <td>24</td>\n",
       "      <td>44</td>\n",
       "      <td>35</td>\n",
       "      <td>28</td>\n",
       "      <td>42</td>\n",
       "      <td>29</td>\n",
       "      <td>46</td>\n",
       "    </tr>\n",
       "    <tr>\n",
       "      <td>B4</td>\n",
       "      <td>40</td>\n",
       "      <td>34</td>\n",
       "      <td>30</td>\n",
       "      <td>36</td>\n",
       "      <td>37</td>\n",
       "      <td>38</td>\n",
       "      <td>31</td>\n",
       "      <td>35</td>\n",
       "      <td>33</td>\n",
       "      <td>34</td>\n",
       "      <td>...</td>\n",
       "      <td>25</td>\n",
       "      <td>37</td>\n",
       "      <td>27</td>\n",
       "      <td>26</td>\n",
       "      <td>45</td>\n",
       "      <td>33</td>\n",
       "      <td>26</td>\n",
       "      <td>41</td>\n",
       "      <td>26</td>\n",
       "      <td>42</td>\n",
       "    </tr>\n",
       "  </tbody>\n",
       "</table>\n",
       "<p>5 rows × 21 columns</p>\n",
       "</div>"
      ],
      "text/plain": [
       "    P0  P1  P2  P3  P4  P5  P6  P7  P8  P9  ...  P11  P12  P13  P14  P15  P16  \\\n",
       "B0  36  36  31  43  37  32  30  29  37  32  ...   26   35   29   28   46   35   \n",
       "B1  43  36  27  39  34  37  22  30  34  30  ...   27   33   25   26   45   34   \n",
       "B2  45  31  28  43  40  39  31  30  36  29  ...   28   33   30   27   45   34   \n",
       "B3  38  32  31  41  34  33  31  36  40  32  ...   27   31   28   24   44   35   \n",
       "B4  40  34  30  36  37  38  31  35  33  34  ...   25   37   27   26   45   33   \n",
       "\n",
       "    P17  P18  P19  P20  \n",
       "B0   24   45   23   41  \n",
       "B1   27   38   29   38  \n",
       "B2   29   47   27   43  \n",
       "B3   28   42   29   46  \n",
       "B4   26   41   26   42  \n",
       "\n",
       "[5 rows x 21 columns]"
      ]
     },
     "execution_count": 156,
     "metadata": {},
     "output_type": "execute_result"
    }
   ],
   "source": [
    "print(boldText+'Тарифы на железнодорожные перевозки + себестоимость производства')\n",
    "totCost.head()"
   ]
  },
  {
   "cell_type": "code",
   "execution_count": 157,
   "metadata": {},
   "outputs": [
    {
     "name": "stdout",
     "output_type": "stream",
     "text": [
      "\u001b[1mТарифы на ЖД перевозки + Себестоимость производства\n"
     ]
    },
    {
     "data": {
      "image/png": "[encoded data removed]",
      "text/plain": [
       "<Figure size 1152x288 with 3 Axes>"
      ]
     },
     "metadata": {
      "needs_background": "light"
     },
     "output_type": "display_data"
    }
   ],
   "source": [
    "f, axes = plt.subplots(nrows=1, ncols=3, figsize=(16, 4), sharex=True)\n",
    "#sns.despine(left=True)\n",
    "\n",
    "sns.barplot(x=totCost.index,\n",
    "            y='P0',\n",
    "            data=totCost,\n",
    "            palette=\"deep\",\n",
    "            ax=axes[0]).set_title('Производитель 1')\n",
    "\n",
    "sns.barplot(x=totCost.index,\n",
    "            y='P1',\n",
    "            data=totCost,\n",
    "            palette=\"deep\",\n",
    "            ax=axes[1]).set_title('Производитель 2')\n",
    "\n",
    "sns.barplot(x=totCost.index,\n",
    "            y='P2',\n",
    "            data=totCost,\n",
    "            palette=\"deep\",\n",
    "            ax=axes[2]).set_title('Производитель 3')\n",
    "\n",
    "print(boldText+'Тарифы на ЖД перевозки + Себестоимость производства')\n",
    "plt.show()"
   ]
  },
  {
   "cell_type": "markdown",
   "metadata": {},
   "source": [
    "- Здесь видно, что например, минимальные накладные расходы для доставки товаров второму покупателю имеет второй производитель.\n",
    "Однако, за счёт большего приимущества первого производителя по накладным расходам доставки продуктов в порт конкурентную борьбу по минимальной предложенной цене выигрывает он."
   ]
  },
  {
   "cell_type": "code",
   "execution_count": 158,
   "metadata": {},
   "outputs": [],
   "source": [
    "minCostProd = np.zeros((NProds, NBuyers)).astype(int)\n",
    "for j in range(NBuyers):\n",
    "    min_idx = np.argmin(totCost.values[j,:])\n",
    "    minCostProd[min_idx, j] = totCost.values[j,min_idx]"
   ]
  },
  {
   "cell_type": "code",
   "execution_count": 159,
   "metadata": {},
   "outputs": [],
   "source": [
    "minCostProd = pd.DataFrame(data=minCostProd, index=totCost.columns, columns=totCost.index)"
   ]
  },
  {
   "cell_type": "code",
   "execution_count": 160,
   "metadata": {},
   "outputs": [
    {
     "data": {
      "text/html": [
       "<div>\n",
       "<style scoped>\n",
       "    .dataframe tbody tr th:only-of-type {\n",
       "        vertical-align: middle;\n",
       "    }\n",
       "\n",
       "    .dataframe tbody tr th {\n",
       "        vertical-align: top;\n",
       "    }\n",
       "\n",
       "    .dataframe thead th {\n",
       "        text-align: right;\n",
       "    }\n",
       "</style>\n",
       "<table border=\"1\" class=\"dataframe\">\n",
       "  <thead>\n",
       "    <tr style=\"text-align: right;\">\n",
       "      <th></th>\n",
       "      <th>B0</th>\n",
       "      <th>B1</th>\n",
       "      <th>B2</th>\n",
       "      <th>B3</th>\n",
       "      <th>B4</th>\n",
       "      <th>B5</th>\n",
       "      <th>B6</th>\n",
       "      <th>B7</th>\n",
       "      <th>B8</th>\n",
       "      <th>B9</th>\n",
       "      <th>...</th>\n",
       "      <th>B11</th>\n",
       "      <th>B12</th>\n",
       "      <th>B13</th>\n",
       "      <th>B14</th>\n",
       "      <th>B15</th>\n",
       "      <th>B16</th>\n",
       "      <th>B17</th>\n",
       "      <th>B18</th>\n",
       "      <th>B19</th>\n",
       "      <th>B20</th>\n",
       "    </tr>\n",
       "  </thead>\n",
       "  <tbody>\n",
       "    <tr>\n",
       "      <td>P0</td>\n",
       "      <td>0</td>\n",
       "      <td>0</td>\n",
       "      <td>0</td>\n",
       "      <td>0</td>\n",
       "      <td>0</td>\n",
       "      <td>0</td>\n",
       "      <td>0</td>\n",
       "      <td>0</td>\n",
       "      <td>0</td>\n",
       "      <td>0</td>\n",
       "      <td>...</td>\n",
       "      <td>0</td>\n",
       "      <td>0</td>\n",
       "      <td>0</td>\n",
       "      <td>0</td>\n",
       "      <td>0</td>\n",
       "      <td>0</td>\n",
       "      <td>0</td>\n",
       "      <td>0</td>\n",
       "      <td>0</td>\n",
       "      <td>0</td>\n",
       "    </tr>\n",
       "    <tr>\n",
       "      <td>P1</td>\n",
       "      <td>0</td>\n",
       "      <td>0</td>\n",
       "      <td>0</td>\n",
       "      <td>0</td>\n",
       "      <td>0</td>\n",
       "      <td>0</td>\n",
       "      <td>0</td>\n",
       "      <td>0</td>\n",
       "      <td>0</td>\n",
       "      <td>0</td>\n",
       "      <td>...</td>\n",
       "      <td>0</td>\n",
       "      <td>0</td>\n",
       "      <td>0</td>\n",
       "      <td>0</td>\n",
       "      <td>0</td>\n",
       "      <td>0</td>\n",
       "      <td>0</td>\n",
       "      <td>0</td>\n",
       "      <td>0</td>\n",
       "      <td>0</td>\n",
       "    </tr>\n",
       "    <tr>\n",
       "      <td>P2</td>\n",
       "      <td>0</td>\n",
       "      <td>0</td>\n",
       "      <td>0</td>\n",
       "      <td>0</td>\n",
       "      <td>0</td>\n",
       "      <td>0</td>\n",
       "      <td>0</td>\n",
       "      <td>0</td>\n",
       "      <td>0</td>\n",
       "      <td>0</td>\n",
       "      <td>...</td>\n",
       "      <td>0</td>\n",
       "      <td>0</td>\n",
       "      <td>0</td>\n",
       "      <td>0</td>\n",
       "      <td>0</td>\n",
       "      <td>0</td>\n",
       "      <td>0</td>\n",
       "      <td>0</td>\n",
       "      <td>0</td>\n",
       "      <td>0</td>\n",
       "    </tr>\n",
       "    <tr>\n",
       "      <td>P3</td>\n",
       "      <td>0</td>\n",
       "      <td>0</td>\n",
       "      <td>0</td>\n",
       "      <td>0</td>\n",
       "      <td>0</td>\n",
       "      <td>0</td>\n",
       "      <td>0</td>\n",
       "      <td>0</td>\n",
       "      <td>0</td>\n",
       "      <td>0</td>\n",
       "      <td>...</td>\n",
       "      <td>0</td>\n",
       "      <td>0</td>\n",
       "      <td>0</td>\n",
       "      <td>0</td>\n",
       "      <td>0</td>\n",
       "      <td>0</td>\n",
       "      <td>0</td>\n",
       "      <td>0</td>\n",
       "      <td>0</td>\n",
       "      <td>0</td>\n",
       "    </tr>\n",
       "    <tr>\n",
       "      <td>P4</td>\n",
       "      <td>0</td>\n",
       "      <td>0</td>\n",
       "      <td>0</td>\n",
       "      <td>0</td>\n",
       "      <td>0</td>\n",
       "      <td>0</td>\n",
       "      <td>0</td>\n",
       "      <td>0</td>\n",
       "      <td>0</td>\n",
       "      <td>0</td>\n",
       "      <td>...</td>\n",
       "      <td>0</td>\n",
       "      <td>0</td>\n",
       "      <td>0</td>\n",
       "      <td>0</td>\n",
       "      <td>0</td>\n",
       "      <td>0</td>\n",
       "      <td>0</td>\n",
       "      <td>0</td>\n",
       "      <td>0</td>\n",
       "      <td>0</td>\n",
       "    </tr>\n",
       "  </tbody>\n",
       "</table>\n",
       "<p>5 rows × 21 columns</p>\n",
       "</div>"
      ],
      "text/plain": [
       "    B0  B1  B2  B3  B4  B5  B6  B7  B8  B9  ...  B11  B12  B13  B14  B15  B16  \\\n",
       "P0   0   0   0   0   0   0   0   0   0   0  ...    0    0    0    0    0    0   \n",
       "P1   0   0   0   0   0   0   0   0   0   0  ...    0    0    0    0    0    0   \n",
       "P2   0   0   0   0   0   0   0   0   0   0  ...    0    0    0    0    0    0   \n",
       "P3   0   0   0   0   0   0   0   0   0   0  ...    0    0    0    0    0    0   \n",
       "P4   0   0   0   0   0   0   0   0   0   0  ...    0    0    0    0    0    0   \n",
       "\n",
       "    B17  B18  B19  B20  \n",
       "P0    0    0    0    0  \n",
       "P1    0    0    0    0  \n",
       "P2    0    0    0    0  \n",
       "P3    0    0    0    0  \n",
       "P4    0    0    0    0  \n",
       "\n",
       "[5 rows x 21 columns]"
      ]
     },
     "execution_count": 160,
     "metadata": {},
     "output_type": "execute_result"
    }
   ],
   "source": [
    "minCostProd.head()"
   ]
  },
  {
   "cell_type": "code",
   "execution_count": 161,
   "metadata": {},
   "outputs": [],
   "source": [
    "# Тарифы на жд перевозки от i-го производителя j-му покупателю + себестоимость производства i-го производителя\n",
    "k = RailFares.values + Producers['ProdCost'].values\n",
    "k = k.T"
   ]
  },
  {
   "cell_type": "code",
   "execution_count": 162,
   "metadata": {},
   "outputs": [
    {
     "name": "stdout",
     "output_type": "stream",
     "text": [
      "Тарифы на жд перевозки от i-го производителя j-му покупателю + себестоимость производства i-го производителя\n",
      "[[36 43 45 38 40 41 37 39 44 37]\n",
      " [36 36 31 32 34 38 39 33 35 34]\n",
      " [31 27 28 31 30 26 31 23 28 28]\n",
      " [43 39 43 41 36 41 37 37 39 36]\n",
      " [37 34 40 34 37 35 38 33 34 35]\n",
      " [32 37 39 33 38 39 32 36 37 36]\n",
      " [30 22 31 31 31 26 23 24 29 26]\n",
      " [29 30 30 36 35 30 37 33 31 31]\n",
      " [37 34 36 40 33 35 39 31 31 34]\n",
      " [32 30 29 32 34 33 35 36 32 27]]\n"
     ]
    }
   ],
   "source": [
    "print('Тарифы на жд перевозки от i-го производителя j-му покупателю + себестоимость производства i-го производителя')\n",
    "print(k[:10,:10])"
   ]
  },
  {
   "cell_type": "code",
   "execution_count": 163,
   "metadata": {},
   "outputs": [],
   "source": [
    "# Тарифы на жд перевозки в порт + себестоимость производства i-го производителя \n",
    "z = Producers['SupplyPort'].values +  Producers['ProdCost'].values"
   ]
  },
  {
   "cell_type": "code",
   "execution_count": 164,
   "metadata": {},
   "outputs": [
    {
     "name": "stdout",
     "output_type": "stream",
     "text": [
      "Тарифы на жд перевозки в порт + себестоимость производства i-го производителя\n",
      "[38 39 27 35 35 35 23 37 37 35]\n"
     ]
    }
   ],
   "source": [
    "print('Тарифы на жд перевозки в порт + себестоимость производства i-го производителя')\n",
    "print(z[:10])"
   ]
  },
  {
   "cell_type": "markdown",
   "metadata": {},
   "source": [
    "### Минимально выгодная цена для производителей при поставке продуктов покупателям\n",
    "\n",
    " - Условие снижение цены для покупателей:\n",
    "     xij - kij > d - zi\n",
    "     \n",
    " - Минимально выгодная цена для производителей при поставке покупателям:\n",
    "     xij = d - zi + kij + 1\n"
   ]
  },
  {
   "cell_type": "code",
   "execution_count": 165,
   "metadata": {},
   "outputs": [],
   "source": [
    "#Максимальная выгодная цена для продажи\n",
    "ProdBestPrices = np.zeros((NProds, NBuyers)).astype(int)"
   ]
  },
  {
   "cell_type": "code",
   "execution_count": 166,
   "metadata": {},
   "outputs": [],
   "source": [
    "ProdBestPrices = RailFares.values + Producers['PortPrice'].values - Producers['SupplyPort'].values + 1\n",
    "ProdBestPrices = ProdBestPrices.T"
   ]
  },
  {
   "cell_type": "code",
   "execution_count": 167,
   "metadata": {},
   "outputs": [
    {
     "name": "stdout",
     "output_type": "stream",
     "text": [
      "\u001b[1mМаксимальная выгодные цены для продажи:\n"
     ]
    }
   ],
   "source": [
    "print(boldText+'Максимальная выгодные цены для продажи:')\n",
    "#ProdBestPrices[:10]"
   ]
  },
  {
   "cell_type": "code",
   "execution_count": 168,
   "metadata": {},
   "outputs": [
    {
     "name": "stdout",
     "output_type": "stream",
     "text": [
      "\u001b[1mМатрица спроса покупателей\n"
     ]
    }
   ],
   "source": [
    "#Матрица спроса покупателей\n",
    "h = np.zeros((NProds, NBuyers)).astype(int)\n",
    "for j in range(NBuyers):\n",
    "    min_idxs = np.argmin(ProdBestPrices[:,j])\n",
    "    h[min_idxs, j] = 1\n",
    "\n",
    "print(boldText+'Матрица спроса покупателей')\n",
    "#h[:10]"
   ]
  },
  {
   "cell_type": "code",
   "execution_count": 169,
   "metadata": {},
   "outputs": [],
   "source": [
    "#Прибыль от доставки от i-го призводителя j-му покупателю за вычетом доставки и себестоимости товара\n",
    "u = ProdBestPrices-k"
   ]
  },
  {
   "cell_type": "code",
   "execution_count": 170,
   "metadata": {},
   "outputs": [],
   "source": [
    "#Прибыль от доставки от i-го призводителя в порт за вычетом доставки и себестоимости товара\n",
    "w = d-z\n",
    "w = w.reshape(NProds,1)"
   ]
  },
  {
   "cell_type": "code",
   "execution_count": 171,
   "metadata": {},
   "outputs": [],
   "source": [
    "c = np.hstack((u,w))\n",
    "#print(c)"
   ]
  },
  {
   "cell_type": "code",
   "execution_count": 172,
   "metadata": {},
   "outputs": [],
   "source": [
    "cost = np.array(c.reshape(NProds*(NBuyers+1),)).tolist()\n",
    "#print(cost)"
   ]
  },
  {
   "cell_type": "markdown",
   "metadata": {},
   "source": [
    "# Решение задачи"
   ]
  },
  {
   "cell_type": "markdown",
   "metadata": {},
   "source": [
    "Задача заключается в том, чтобы определить, кто у кого и по каким ценам\n",
    "будет покупать продукт после того, как рынок придет в состояние равновесия,\n",
    "т.е. когда ни у кого из производителей не будет мотивации менять цены или\n",
    "объемы поставок. Важным моментом является то, что необходимо найти именно\n",
    "верхнюю границу такого равновесия, т.е. набор максимальных возможных\n",
    "равновесных цен поставок. На рынке, работающем по описанным правилам,\n",
    "цены сами придут к уровню максимальных, если в начальный момент они были\n",
    "заведомо больше (скажем, если максимальные равновесные цены находятся в\n",
    "районе 50 долларов, а в начальный момент времени они были, допустим, 70\n",
    "долларов).\n",
    "Необходимо заполнить таблицу 4 ценами и объемами поставок."
   ]
  },
  {
   "cell_type": "markdown",
   "metadata": {},
   "source": [
    "# Переменные решения"
   ]
  },
  {
   "cell_type": "markdown",
   "metadata": {},
   "source": [
    "Определим переменные решения:\n",
    "\n",
    " - xij – количество тонн продукта поставленное от i-го производителя j-му покупателю;\n",
    " - yij – цена за тонну продукта i-го производителя j-му покупателю;\n",
    " - pi  – количество продукта перевнзённое от i-го производителя в порт."
   ]
  },
  {
   "cell_type": "code",
   "execution_count": 173,
   "metadata": {},
   "outputs": [
    {
     "name": "stdout",
     "output_type": "stream",
     "text": [
      "x: variable of length 462\n",
      "value: None\n"
     ]
    }
   ],
   "source": [
    "# матрица решений, показывающая количество тонн продукта поставленное от i-го производителя j-му покупателю\n",
    "# столбец-производитель; строка-покупатель\n",
    "x = variable(NProds*(NBuyers+1), 'x')\n",
    "print(x)"
   ]
  },
  {
   "cell_type": "markdown",
   "metadata": {},
   "source": [
    "# Ограничения модели"
   ]
  },
  {
   "cell_type": "markdown",
   "metadata": {},
   "source": [
    "<img style=\"float: left;\" src=\"files/constrains.png\">"
   ]
  },
  {
   "cell_type": "markdown",
   "metadata": {},
   "source": [
    "1.\tОграничения по количеству тонн поставляемого продукта"
   ]
  },
  {
   "cell_type": "code",
   "execution_count": 174,
   "metadata": {},
   "outputs": [],
   "source": [
    "#Ограничения по количеству тонн производимого продукта для производителей\n",
    "prod_possib_ctn = []\n",
    "for i, possib in zip(np.arange(0,NProds*(NBuyers+1),NBuyers+1), Producers['Possibilities']):\n",
    "    prod_possib_ctn.append(  (np.sum(x[int(i)+int(j)] for j in np.arange(NBuyers+1)) <= possib)   )\n",
    "#np.arange(0,NProds*(NBuyers+1),(NBuyers+1))"
   ]
  },
  {
   "cell_type": "markdown",
   "metadata": {},
   "source": [
    "2.\tОграничения по потребностям покупателей"
   ]
  },
  {
   "cell_type": "code",
   "execution_count": 175,
   "metadata": {},
   "outputs": [],
   "source": [
    "# Ограничения по потребностям покупателей\n",
    "buy_need_ctn = []\n",
    "for j, req in zip(np.arange(NBuyers), Buyers[Scenario]):\n",
    "    buy_need_ctn.append(   (np.sum(x[int(i)+int(j)] for i in np.arange(0,NProds*(NBuyers+1),(NBuyers+1))) == req)   )"
   ]
  },
  {
   "cell_type": "markdown",
   "metadata": {},
   "source": [
    "3.\tОграничения по спросу на продукт"
   ]
  },
  {
   "cell_type": "code",
   "execution_count": 176,
   "metadata": {},
   "outputs": [],
   "source": [
    "#Ограничения по спросу на продукты\n",
    "buy_demand_ctn = []\n",
    "port_demand = np.full(NProds,1).reshape(NProds,1)\n",
    "h_ = np.hstack((h, port_demand)).reshape(NProds*(NBuyers+1),).astype('int')\n",
    "for j in np.arange(NBuyers+1):    \n",
    "    for i in np.arange(0,NProds*(NBuyers+1),(NBuyers+1)):\n",
    "        idx = int(i+j)\n",
    "        if h_[idx] == 0:\n",
    "            buy_demand_ctn.append(   (x[idx] == 0)   )\n",
    "        else:\n",
    "            buy_demand_ctn.append(   (x[int(i)+int(j)] >= 0)   )"
   ]
  },
  {
   "cell_type": "code",
   "execution_count": 177,
   "metadata": {},
   "outputs": [],
   "source": [
    "constraints = prod_possib_ctn + buy_need_ctn + buy_demand_ctn\n",
    "#print(constraints)"
   ]
  },
  {
   "cell_type": "markdown",
   "metadata": {},
   "source": [
    "# Целевая функция"
   ]
  },
  {
   "cell_type": "markdown",
   "metadata": {},
   "source": [
    "<img style=\"float: left;\" src=\"files/target_func.png\">"
   ]
  },
  {
   "cell_type": "raw",
   "metadata": {},
   "source": [
    "y_ij – цена за тонну продукта i-го производителя j-му покупателю;\n",
    "x_ij – количество тонн продукта поставленное от i-го производителя j-му покупателю;\n",
    "k_ij – затраты на ж.д. перевозку и производство продукта от i-го производителя j-му покупателю;\n",
    "h_ij – есть или нету (1-есть, 0-нету) поставка продукта от i-го производителя j-му покупателю;\n",
    "p_i – количество тонн продукта поставленное от i-го производителя в порт;\n",
    "d – фиксированная цена на продажу продукта в порту;\n",
    "z_i – затраты на ж.д. перевозку и производство продукта от i-го производителя в порт;\n",
    "n – количество производителей;\n",
    "m – количество покупателей."
   ]
  },
  {
   "cell_type": "code",
   "execution_count": 178,
   "metadata": {},
   "outputs": [
    {
     "name": "stdout",
     "output_type": "stream",
     "text": [
      "linear function of length 1\n",
      "linear term: linear function of length 1\n",
      "coefficient of variable(462,'x'):\n",
      "[-1.30e+01 -1.30e+01 -1.30e+01 -1.30e+01 -1.30e+01 -1.30e+01 -1.30e+01 ... ]\n",
      "\n"
     ]
    }
   ],
   "source": [
    "#Целевая функция\n",
    "target_fun = (np.sum(-cost[i]*x[i] for i in range(NProds*(NBuyers+1)) ))\n",
    "print(target_fun)"
   ]
  },
  {
   "cell_type": "markdown",
   "metadata": {},
   "source": [
    "# Построение модели"
   ]
  },
  {
   "cell_type": "code",
   "execution_count": 179,
   "metadata": {},
   "outputs": [
    {
     "name": "stdout",
     "output_type": "stream",
     "text": [
      "<optimization problem with 462 variables, 63 inequality and 441 equality constraint(s)>\n"
     ]
    }
   ],
   "source": [
    "prob = op(target_fun, constraints)\n",
    "print(prob)"
   ]
  },
  {
   "cell_type": "markdown",
   "metadata": {},
   "source": [
    "# Решение для модели"
   ]
  },
  {
   "cell_type": "code",
   "execution_count": 180,
   "metadata": {},
   "outputs": [
    {
     "name": "stdout",
     "output_type": "stream",
     "text": [
      "optimal\n"
     ]
    }
   ],
   "source": [
    "start = time.time()\n",
    "prob.solve(solver='glpk')\n",
    "stop = time.time()\n",
    "print(prob.status)"
   ]
  },
  {
   "cell_type": "code",
   "execution_count": 181,
   "metadata": {},
   "outputs": [],
   "source": [
    "prodsPortVol = []\n",
    "port = []\n",
    "for val in x.value:\n",
    "    prodsPortVol.append(val)\n",
    "    \n",
    "prodsPortVol = np.array(prodsPortVol).reshape(NProds,NBuyers+1).astype('int')"
   ]
  },
  {
   "cell_type": "code",
   "execution_count": 182,
   "metadata": {},
   "outputs": [],
   "source": [
    "prodsVol = prodsPortVol[:,:NBuyers]\n",
    "portVol = prodsPortVol[:,-1:]\n",
    "prodsPrice = np.zeros((NProds, NBuyers)).astype(int)\n",
    "VolPrice = np.zeros((NProds, NBuyers)).astype(int)\n",
    "VolPricePort = np.zeros((NProds, 1)).astype(int)\n",
    "for i in range(NProds):\n",
    "    VolPricePort[i] = w[i]*portVol[i]\n",
    "    for j in range(NBuyers):\n",
    "        prodsPrice[i,j] = ProdBestPrices[i,j]\n",
    "        VolPrice[i,j] = (ProdBestPrices[i,j] - k[i,j])*prodsVol[i,j]\n",
    "\n",
    "#Количество тонн продукта от i-го производителя j-му покупателю\n",
    "VolData = dict(zip(ProdIndex, prodsVol))\n",
    "DecisionVol = pd.DataFrame(VolData, BuyIndex)\n",
    "#Количество тонн продукта от i-го производителя в порт\n",
    "VolPricePort = np.array(VolPricePort).reshape(NProds,)\n",
    "VolPricePortData = dict(zip(ProdIndex, (VolPricePort)))\n",
    "DecisionVolPort = pd.DataFrame(VolPricePortData, index=['Pt'])\n",
    "#Цена за тонну продукта i-го производителя j-му покупателю\n",
    "PriceData = dict(zip(ProdIndex, prodsPrice))\n",
    "DecisionPrice = pd.DataFrame(PriceData, BuyIndex)\n",
    "#Объём продаж i-го производителя j-му покупателю за вычетом затрат на доставку товара\n",
    "VolPriceData = dict(zip(ProdIndex, VolPrice))\n",
    "DecisionVolPrice = pd.DataFrame(VolPriceData, BuyIndex)"
   ]
  },
  {
   "cell_type": "code",
   "execution_count": 183,
   "metadata": {},
   "outputs": [
    {
     "name": "stdout",
     "output_type": "stream",
     "text": [
      "\u001b[1mКоличество тонн продукта поставленное от i-го производителя j-му покупателю\n"
     ]
    },
    {
     "data": {
      "text/html": [
       "<div>\n",
       "<style scoped>\n",
       "    .dataframe tbody tr th:only-of-type {\n",
       "        vertical-align: middle;\n",
       "    }\n",
       "\n",
       "    .dataframe tbody tr th {\n",
       "        vertical-align: top;\n",
       "    }\n",
       "\n",
       "    .dataframe thead th {\n",
       "        text-align: right;\n",
       "    }\n",
       "</style>\n",
       "<table border=\"1\" class=\"dataframe\">\n",
       "  <thead>\n",
       "    <tr style=\"text-align: right;\">\n",
       "      <th></th>\n",
       "      <th>P0</th>\n",
       "      <th>P1</th>\n",
       "      <th>P2</th>\n",
       "      <th>P3</th>\n",
       "      <th>P4</th>\n",
       "      <th>P5</th>\n",
       "      <th>P6</th>\n",
       "      <th>P7</th>\n",
       "      <th>P8</th>\n",
       "      <th>P9</th>\n",
       "      <th>...</th>\n",
       "      <th>P11</th>\n",
       "      <th>P12</th>\n",
       "      <th>P13</th>\n",
       "      <th>P14</th>\n",
       "      <th>P15</th>\n",
       "      <th>P16</th>\n",
       "      <th>P17</th>\n",
       "      <th>P18</th>\n",
       "      <th>P19</th>\n",
       "      <th>P20</th>\n",
       "    </tr>\n",
       "  </thead>\n",
       "  <tbody>\n",
       "    <tr>\n",
       "      <td>B0</td>\n",
       "      <td>0</td>\n",
       "      <td>0</td>\n",
       "      <td>0</td>\n",
       "      <td>0</td>\n",
       "      <td>0</td>\n",
       "      <td>0</td>\n",
       "      <td>0</td>\n",
       "      <td>98</td>\n",
       "      <td>0</td>\n",
       "      <td>0</td>\n",
       "      <td>...</td>\n",
       "      <td>0</td>\n",
       "      <td>0</td>\n",
       "      <td>0</td>\n",
       "      <td>0</td>\n",
       "      <td>0</td>\n",
       "      <td>0</td>\n",
       "      <td>0</td>\n",
       "      <td>0</td>\n",
       "      <td>0</td>\n",
       "      <td>0</td>\n",
       "    </tr>\n",
       "    <tr>\n",
       "      <td>B1</td>\n",
       "      <td>0</td>\n",
       "      <td>0</td>\n",
       "      <td>0</td>\n",
       "      <td>0</td>\n",
       "      <td>0</td>\n",
       "      <td>0</td>\n",
       "      <td>0</td>\n",
       "      <td>101</td>\n",
       "      <td>0</td>\n",
       "      <td>0</td>\n",
       "      <td>...</td>\n",
       "      <td>0</td>\n",
       "      <td>0</td>\n",
       "      <td>0</td>\n",
       "      <td>0</td>\n",
       "      <td>0</td>\n",
       "      <td>0</td>\n",
       "      <td>0</td>\n",
       "      <td>0</td>\n",
       "      <td>0</td>\n",
       "      <td>0</td>\n",
       "    </tr>\n",
       "    <tr>\n",
       "      <td>B2</td>\n",
       "      <td>0</td>\n",
       "      <td>139</td>\n",
       "      <td>0</td>\n",
       "      <td>0</td>\n",
       "      <td>0</td>\n",
       "      <td>0</td>\n",
       "      <td>0</td>\n",
       "      <td>0</td>\n",
       "      <td>0</td>\n",
       "      <td>0</td>\n",
       "      <td>...</td>\n",
       "      <td>0</td>\n",
       "      <td>0</td>\n",
       "      <td>0</td>\n",
       "      <td>0</td>\n",
       "      <td>0</td>\n",
       "      <td>0</td>\n",
       "      <td>0</td>\n",
       "      <td>0</td>\n",
       "      <td>0</td>\n",
       "      <td>0</td>\n",
       "    </tr>\n",
       "    <tr>\n",
       "      <td>B3</td>\n",
       "      <td>0</td>\n",
       "      <td>64</td>\n",
       "      <td>0</td>\n",
       "      <td>0</td>\n",
       "      <td>0</td>\n",
       "      <td>0</td>\n",
       "      <td>0</td>\n",
       "      <td>0</td>\n",
       "      <td>0</td>\n",
       "      <td>0</td>\n",
       "      <td>...</td>\n",
       "      <td>0</td>\n",
       "      <td>0</td>\n",
       "      <td>0</td>\n",
       "      <td>0</td>\n",
       "      <td>0</td>\n",
       "      <td>0</td>\n",
       "      <td>0</td>\n",
       "      <td>0</td>\n",
       "      <td>0</td>\n",
       "      <td>0</td>\n",
       "    </tr>\n",
       "    <tr>\n",
       "      <td>B4</td>\n",
       "      <td>0</td>\n",
       "      <td>0</td>\n",
       "      <td>0</td>\n",
       "      <td>0</td>\n",
       "      <td>0</td>\n",
       "      <td>0</td>\n",
       "      <td>0</td>\n",
       "      <td>0</td>\n",
       "      <td>0</td>\n",
       "      <td>0</td>\n",
       "      <td>...</td>\n",
       "      <td>156</td>\n",
       "      <td>0</td>\n",
       "      <td>0</td>\n",
       "      <td>0</td>\n",
       "      <td>0</td>\n",
       "      <td>0</td>\n",
       "      <td>0</td>\n",
       "      <td>0</td>\n",
       "      <td>0</td>\n",
       "      <td>0</td>\n",
       "    </tr>\n",
       "  </tbody>\n",
       "</table>\n",
       "<p>5 rows × 21 columns</p>\n",
       "</div>"
      ],
      "text/plain": [
       "    P0   P1  P2  P3  P4  P5  P6   P7  P8  P9  ...  P11  P12  P13  P14  P15  \\\n",
       "B0   0    0   0   0   0   0   0   98   0   0  ...    0    0    0    0    0   \n",
       "B1   0    0   0   0   0   0   0  101   0   0  ...    0    0    0    0    0   \n",
       "B2   0  139   0   0   0   0   0    0   0   0  ...    0    0    0    0    0   \n",
       "B3   0   64   0   0   0   0   0    0   0   0  ...    0    0    0    0    0   \n",
       "B4   0    0   0   0   0   0   0    0   0   0  ...  156    0    0    0    0   \n",
       "\n",
       "    P16  P17  P18  P19  P20  \n",
       "B0    0    0    0    0    0  \n",
       "B1    0    0    0    0    0  \n",
       "B2    0    0    0    0    0  \n",
       "B3    0    0    0    0    0  \n",
       "B4    0    0    0    0    0  \n",
       "\n",
       "[5 rows x 21 columns]"
      ]
     },
     "execution_count": 183,
     "metadata": {},
     "output_type": "execute_result"
    }
   ],
   "source": [
    "print(boldText+'Количество тонн продукта поставленное от i-го производителя j-му покупателю')\n",
    "DecisionVol.head()"
   ]
  },
  {
   "cell_type": "code",
   "execution_count": 184,
   "metadata": {},
   "outputs": [
    {
     "name": "stdout",
     "output_type": "stream",
     "text": [
      "\u001b[1mКоличество тонн продукта поставленное от i-го производителя в порт\n"
     ]
    },
    {
     "data": {
      "text/html": [
       "<div>\n",
       "<style scoped>\n",
       "    .dataframe tbody tr th:only-of-type {\n",
       "        vertical-align: middle;\n",
       "    }\n",
       "\n",
       "    .dataframe tbody tr th {\n",
       "        vertical-align: top;\n",
       "    }\n",
       "\n",
       "    .dataframe thead th {\n",
       "        text-align: right;\n",
       "    }\n",
       "</style>\n",
       "<table border=\"1\" class=\"dataframe\">\n",
       "  <thead>\n",
       "    <tr style=\"text-align: right;\">\n",
       "      <th></th>\n",
       "      <th>P0</th>\n",
       "      <th>P1</th>\n",
       "      <th>P2</th>\n",
       "      <th>P3</th>\n",
       "      <th>P4</th>\n",
       "      <th>P5</th>\n",
       "      <th>P6</th>\n",
       "      <th>P7</th>\n",
       "      <th>P8</th>\n",
       "      <th>P9</th>\n",
       "      <th>...</th>\n",
       "      <th>P11</th>\n",
       "      <th>P12</th>\n",
       "      <th>P13</th>\n",
       "      <th>P14</th>\n",
       "      <th>P15</th>\n",
       "      <th>P16</th>\n",
       "      <th>P17</th>\n",
       "      <th>P18</th>\n",
       "      <th>P19</th>\n",
       "      <th>P20</th>\n",
       "    </tr>\n",
       "  </thead>\n",
       "  <tbody>\n",
       "    <tr>\n",
       "      <td>Pt</td>\n",
       "      <td>308472</td>\n",
       "      <td>149831</td>\n",
       "      <td>607844</td>\n",
       "      <td>253050</td>\n",
       "      <td>359985</td>\n",
       "      <td>418335</td>\n",
       "      <td>419337</td>\n",
       "      <td>239707</td>\n",
       "      <td>280384</td>\n",
       "      <td>317790</td>\n",
       "      <td>...</td>\n",
       "      <td>303504</td>\n",
       "      <td>258804</td>\n",
       "      <td>473400</td>\n",
       "      <td>679300</td>\n",
       "      <td>213980</td>\n",
       "      <td>236720</td>\n",
       "      <td>215402</td>\n",
       "      <td>159543</td>\n",
       "      <td>606760</td>\n",
       "      <td>298980</td>\n",
       "    </tr>\n",
       "  </tbody>\n",
       "</table>\n",
       "<p>1 rows × 21 columns</p>\n",
       "</div>"
      ],
      "text/plain": [
       "        P0      P1      P2      P3      P4      P5      P6      P7      P8  \\\n",
       "Pt  308472  149831  607844  253050  359985  418335  419337  239707  280384   \n",
       "\n",
       "        P9  ...     P11     P12     P13     P14     P15     P16     P17  \\\n",
       "Pt  317790  ...  303504  258804  473400  679300  213980  236720  215402   \n",
       "\n",
       "       P18     P19     P20  \n",
       "Pt  159543  606760  298980  \n",
       "\n",
       "[1 rows x 21 columns]"
      ]
     },
     "execution_count": 184,
     "metadata": {},
     "output_type": "execute_result"
    }
   ],
   "source": [
    "print(boldText+'Количество тонн продукта поставленное от i-го производителя в порт')\n",
    "DecisionVolPort.head()"
   ]
  },
  {
   "cell_type": "code",
   "execution_count": 185,
   "metadata": {},
   "outputs": [
    {
     "name": "stdout",
     "output_type": "stream",
     "text": [
      "\u001b[1mЦена за тонну продукта i-го производителя j-му покупателю\n"
     ]
    },
    {
     "data": {
      "text/html": [
       "<div>\n",
       "<style scoped>\n",
       "    .dataframe tbody tr th:only-of-type {\n",
       "        vertical-align: middle;\n",
       "    }\n",
       "\n",
       "    .dataframe tbody tr th {\n",
       "        vertical-align: top;\n",
       "    }\n",
       "\n",
       "    .dataframe thead th {\n",
       "        text-align: right;\n",
       "    }\n",
       "</style>\n",
       "<table border=\"1\" class=\"dataframe\">\n",
       "  <thead>\n",
       "    <tr style=\"text-align: right;\">\n",
       "      <th></th>\n",
       "      <th>P0</th>\n",
       "      <th>P1</th>\n",
       "      <th>P2</th>\n",
       "      <th>P3</th>\n",
       "      <th>P4</th>\n",
       "      <th>P5</th>\n",
       "      <th>P6</th>\n",
       "      <th>P7</th>\n",
       "      <th>P8</th>\n",
       "      <th>P9</th>\n",
       "      <th>...</th>\n",
       "      <th>P11</th>\n",
       "      <th>P12</th>\n",
       "      <th>P13</th>\n",
       "      <th>P14</th>\n",
       "      <th>P15</th>\n",
       "      <th>P16</th>\n",
       "      <th>P17</th>\n",
       "      <th>P18</th>\n",
       "      <th>P19</th>\n",
       "      <th>P20</th>\n",
       "    </tr>\n",
       "  </thead>\n",
       "  <tbody>\n",
       "    <tr>\n",
       "      <td>B0</td>\n",
       "      <td>49</td>\n",
       "      <td>48</td>\n",
       "      <td>55</td>\n",
       "      <td>59</td>\n",
       "      <td>53</td>\n",
       "      <td>48</td>\n",
       "      <td>58</td>\n",
       "      <td>43</td>\n",
       "      <td>51</td>\n",
       "      <td>48</td>\n",
       "      <td>...</td>\n",
       "      <td>43</td>\n",
       "      <td>48</td>\n",
       "      <td>55</td>\n",
       "      <td>54</td>\n",
       "      <td>57</td>\n",
       "      <td>58</td>\n",
       "      <td>47</td>\n",
       "      <td>55</td>\n",
       "      <td>52</td>\n",
       "      <td>54</td>\n",
       "    </tr>\n",
       "    <tr>\n",
       "      <td>B1</td>\n",
       "      <td>56</td>\n",
       "      <td>48</td>\n",
       "      <td>51</td>\n",
       "      <td>55</td>\n",
       "      <td>50</td>\n",
       "      <td>53</td>\n",
       "      <td>50</td>\n",
       "      <td>44</td>\n",
       "      <td>48</td>\n",
       "      <td>46</td>\n",
       "      <td>...</td>\n",
       "      <td>44</td>\n",
       "      <td>46</td>\n",
       "      <td>51</td>\n",
       "      <td>52</td>\n",
       "      <td>56</td>\n",
       "      <td>57</td>\n",
       "      <td>50</td>\n",
       "      <td>48</td>\n",
       "      <td>58</td>\n",
       "      <td>51</td>\n",
       "    </tr>\n",
       "    <tr>\n",
       "      <td>B2</td>\n",
       "      <td>58</td>\n",
       "      <td>43</td>\n",
       "      <td>52</td>\n",
       "      <td>59</td>\n",
       "      <td>56</td>\n",
       "      <td>55</td>\n",
       "      <td>59</td>\n",
       "      <td>44</td>\n",
       "      <td>50</td>\n",
       "      <td>45</td>\n",
       "      <td>...</td>\n",
       "      <td>45</td>\n",
       "      <td>46</td>\n",
       "      <td>56</td>\n",
       "      <td>53</td>\n",
       "      <td>56</td>\n",
       "      <td>57</td>\n",
       "      <td>52</td>\n",
       "      <td>57</td>\n",
       "      <td>56</td>\n",
       "      <td>56</td>\n",
       "    </tr>\n",
       "    <tr>\n",
       "      <td>B3</td>\n",
       "      <td>51</td>\n",
       "      <td>44</td>\n",
       "      <td>55</td>\n",
       "      <td>57</td>\n",
       "      <td>50</td>\n",
       "      <td>49</td>\n",
       "      <td>59</td>\n",
       "      <td>50</td>\n",
       "      <td>54</td>\n",
       "      <td>48</td>\n",
       "      <td>...</td>\n",
       "      <td>44</td>\n",
       "      <td>44</td>\n",
       "      <td>54</td>\n",
       "      <td>50</td>\n",
       "      <td>55</td>\n",
       "      <td>58</td>\n",
       "      <td>51</td>\n",
       "      <td>52</td>\n",
       "      <td>58</td>\n",
       "      <td>59</td>\n",
       "    </tr>\n",
       "    <tr>\n",
       "      <td>B4</td>\n",
       "      <td>53</td>\n",
       "      <td>46</td>\n",
       "      <td>54</td>\n",
       "      <td>52</td>\n",
       "      <td>53</td>\n",
       "      <td>54</td>\n",
       "      <td>59</td>\n",
       "      <td>49</td>\n",
       "      <td>47</td>\n",
       "      <td>50</td>\n",
       "      <td>...</td>\n",
       "      <td>42</td>\n",
       "      <td>50</td>\n",
       "      <td>53</td>\n",
       "      <td>52</td>\n",
       "      <td>56</td>\n",
       "      <td>56</td>\n",
       "      <td>49</td>\n",
       "      <td>51</td>\n",
       "      <td>55</td>\n",
       "      <td>55</td>\n",
       "    </tr>\n",
       "  </tbody>\n",
       "</table>\n",
       "<p>5 rows × 21 columns</p>\n",
       "</div>"
      ],
      "text/plain": [
       "    P0  P1  P2  P3  P4  P5  P6  P7  P8  P9  ...  P11  P12  P13  P14  P15  P16  \\\n",
       "B0  49  48  55  59  53  48  58  43  51  48  ...   43   48   55   54   57   58   \n",
       "B1  56  48  51  55  50  53  50  44  48  46  ...   44   46   51   52   56   57   \n",
       "B2  58  43  52  59  56  55  59  44  50  45  ...   45   46   56   53   56   57   \n",
       "B3  51  44  55  57  50  49  59  50  54  48  ...   44   44   54   50   55   58   \n",
       "B4  53  46  54  52  53  54  59  49  47  50  ...   42   50   53   52   56   56   \n",
       "\n",
       "    P17  P18  P19  P20  \n",
       "B0   47   55   52   54  \n",
       "B1   50   48   58   51  \n",
       "B2   52   57   56   56  \n",
       "B3   51   52   58   59  \n",
       "B4   49   51   55   55  \n",
       "\n",
       "[5 rows x 21 columns]"
      ]
     },
     "execution_count": 185,
     "metadata": {},
     "output_type": "execute_result"
    }
   ],
   "source": [
    "print(boldText+'Цена за тонну продукта i-го производителя j-му покупателю')\n",
    "DecisionPrice.head()"
   ]
  },
  {
   "cell_type": "code",
   "execution_count": 186,
   "metadata": {},
   "outputs": [
    {
     "name": "stdout",
     "output_type": "stream",
     "text": [
      "\u001b[1mОбъём продаж i-го производителя j-му покупателю за вычетом затрат на доставку товара\n"
     ]
    },
    {
     "data": {
      "text/html": [
       "<div>\n",
       "<style scoped>\n",
       "    .dataframe tbody tr th:only-of-type {\n",
       "        vertical-align: middle;\n",
       "    }\n",
       "\n",
       "    .dataframe tbody tr th {\n",
       "        vertical-align: top;\n",
       "    }\n",
       "\n",
       "    .dataframe thead th {\n",
       "        text-align: right;\n",
       "    }\n",
       "</style>\n",
       "<table border=\"1\" class=\"dataframe\">\n",
       "  <thead>\n",
       "    <tr style=\"text-align: right;\">\n",
       "      <th></th>\n",
       "      <th>P0</th>\n",
       "      <th>P1</th>\n",
       "      <th>P2</th>\n",
       "      <th>P3</th>\n",
       "      <th>P4</th>\n",
       "      <th>P5</th>\n",
       "      <th>P6</th>\n",
       "      <th>P7</th>\n",
       "      <th>P8</th>\n",
       "      <th>P9</th>\n",
       "      <th>...</th>\n",
       "      <th>P11</th>\n",
       "      <th>P12</th>\n",
       "      <th>P13</th>\n",
       "      <th>P14</th>\n",
       "      <th>P15</th>\n",
       "      <th>P16</th>\n",
       "      <th>P17</th>\n",
       "      <th>P18</th>\n",
       "      <th>P19</th>\n",
       "      <th>P20</th>\n",
       "    </tr>\n",
       "  </thead>\n",
       "  <tbody>\n",
       "    <tr>\n",
       "      <td>B0</td>\n",
       "      <td>0</td>\n",
       "      <td>0</td>\n",
       "      <td>0</td>\n",
       "      <td>0</td>\n",
       "      <td>0</td>\n",
       "      <td>0</td>\n",
       "      <td>0</td>\n",
       "      <td>1372</td>\n",
       "      <td>0</td>\n",
       "      <td>0</td>\n",
       "      <td>...</td>\n",
       "      <td>0</td>\n",
       "      <td>0</td>\n",
       "      <td>0</td>\n",
       "      <td>0</td>\n",
       "      <td>0</td>\n",
       "      <td>0</td>\n",
       "      <td>0</td>\n",
       "      <td>0</td>\n",
       "      <td>0</td>\n",
       "      <td>0</td>\n",
       "    </tr>\n",
       "    <tr>\n",
       "      <td>B1</td>\n",
       "      <td>0</td>\n",
       "      <td>0</td>\n",
       "      <td>0</td>\n",
       "      <td>0</td>\n",
       "      <td>0</td>\n",
       "      <td>0</td>\n",
       "      <td>0</td>\n",
       "      <td>1414</td>\n",
       "      <td>0</td>\n",
       "      <td>0</td>\n",
       "      <td>...</td>\n",
       "      <td>0</td>\n",
       "      <td>0</td>\n",
       "      <td>0</td>\n",
       "      <td>0</td>\n",
       "      <td>0</td>\n",
       "      <td>0</td>\n",
       "      <td>0</td>\n",
       "      <td>0</td>\n",
       "      <td>0</td>\n",
       "      <td>0</td>\n",
       "    </tr>\n",
       "    <tr>\n",
       "      <td>B2</td>\n",
       "      <td>0</td>\n",
       "      <td>1668</td>\n",
       "      <td>0</td>\n",
       "      <td>0</td>\n",
       "      <td>0</td>\n",
       "      <td>0</td>\n",
       "      <td>0</td>\n",
       "      <td>0</td>\n",
       "      <td>0</td>\n",
       "      <td>0</td>\n",
       "      <td>...</td>\n",
       "      <td>0</td>\n",
       "      <td>0</td>\n",
       "      <td>0</td>\n",
       "      <td>0</td>\n",
       "      <td>0</td>\n",
       "      <td>0</td>\n",
       "      <td>0</td>\n",
       "      <td>0</td>\n",
       "      <td>0</td>\n",
       "      <td>0</td>\n",
       "    </tr>\n",
       "    <tr>\n",
       "      <td>B3</td>\n",
       "      <td>0</td>\n",
       "      <td>768</td>\n",
       "      <td>0</td>\n",
       "      <td>0</td>\n",
       "      <td>0</td>\n",
       "      <td>0</td>\n",
       "      <td>0</td>\n",
       "      <td>0</td>\n",
       "      <td>0</td>\n",
       "      <td>0</td>\n",
       "      <td>...</td>\n",
       "      <td>0</td>\n",
       "      <td>0</td>\n",
       "      <td>0</td>\n",
       "      <td>0</td>\n",
       "      <td>0</td>\n",
       "      <td>0</td>\n",
       "      <td>0</td>\n",
       "      <td>0</td>\n",
       "      <td>0</td>\n",
       "      <td>0</td>\n",
       "    </tr>\n",
       "    <tr>\n",
       "      <td>B4</td>\n",
       "      <td>0</td>\n",
       "      <td>0</td>\n",
       "      <td>0</td>\n",
       "      <td>0</td>\n",
       "      <td>0</td>\n",
       "      <td>0</td>\n",
       "      <td>0</td>\n",
       "      <td>0</td>\n",
       "      <td>0</td>\n",
       "      <td>0</td>\n",
       "      <td>...</td>\n",
       "      <td>2652</td>\n",
       "      <td>0</td>\n",
       "      <td>0</td>\n",
       "      <td>0</td>\n",
       "      <td>0</td>\n",
       "      <td>0</td>\n",
       "      <td>0</td>\n",
       "      <td>0</td>\n",
       "      <td>0</td>\n",
       "      <td>0</td>\n",
       "    </tr>\n",
       "  </tbody>\n",
       "</table>\n",
       "<p>5 rows × 21 columns</p>\n",
       "</div>"
      ],
      "text/plain": [
       "    P0    P1  P2  P3  P4  P5  P6    P7  P8  P9  ...   P11  P12  P13  P14  P15  \\\n",
       "B0   0     0   0   0   0   0   0  1372   0   0  ...     0    0    0    0    0   \n",
       "B1   0     0   0   0   0   0   0  1414   0   0  ...     0    0    0    0    0   \n",
       "B2   0  1668   0   0   0   0   0     0   0   0  ...     0    0    0    0    0   \n",
       "B3   0   768   0   0   0   0   0     0   0   0  ...     0    0    0    0    0   \n",
       "B4   0     0   0   0   0   0   0     0   0   0  ...  2652    0    0    0    0   \n",
       "\n",
       "    P16  P17  P18  P19  P20  \n",
       "B0    0    0    0    0    0  \n",
       "B1    0    0    0    0    0  \n",
       "B2    0    0    0    0    0  \n",
       "B3    0    0    0    0    0  \n",
       "B4    0    0    0    0    0  \n",
       "\n",
       "[5 rows x 21 columns]"
      ]
     },
     "execution_count": 186,
     "metadata": {},
     "output_type": "execute_result"
    }
   ],
   "source": [
    "print(boldText+'Объём продаж i-го производителя j-му покупателю за вычетом затрат на доставку товара')\n",
    "DecisionVolPrice.head()"
   ]
  },
  {
   "cell_type": "code",
   "execution_count": 187,
   "metadata": {},
   "outputs": [
    {
     "data": {
      "image/png": "[encoded data removed]",
      "text/plain": [
       "<Figure size 1008x288 with 2 Axes>"
      ]
     },
     "metadata": {
      "needs_background": "light"
     },
     "output_type": "display_data"
    }
   ],
   "source": [
    "f, axes = plt.subplots(nrows=1, ncols=2, figsize=(14, 4), sharex=True)\n",
    "\n",
    "sumVolPrice = []\n",
    "for i in range(NProds):\n",
    "    sumVolPrice.append(DecisionVolPrice.values[:,i].sum())\n",
    "    \n",
    "sns.barplot(x=DecisionVolPrice.columns,\n",
    "            y=sumVolPrice,\n",
    "            palette=\"deep\",\n",
    "            ax=axes[0]).set_title('Объём продаж покупателям')\n",
    "\n",
    "sns.barplot(x=DecisionVolPrice.columns,\n",
    "            y=VolPricePort,\n",
    "            palette=\"deep\",\n",
    "            ax=axes[1]).set_title('Объём продаж в порт')\n",
    "\n",
    "plt.show()"
   ]
  },
  {
   "cell_type": "code",
   "execution_count": 188,
   "metadata": {},
   "outputs": [
    {
     "data": {
      "image/png": "[encoded data removed]",
      "text/plain": [
       "<Figure size 720x360 with 1 Axes>"
      ]
     },
     "metadata": {
      "needs_background": "light"
     },
     "output_type": "display_data"
    }
   ],
   "source": [
    "plt.figure(figsize=(10,5))\n",
    "sumBuyPort = list(np.array(sumVolPrice)+np.array(VolPricePort))\n",
    "sns.barplot(x=DecisionVolPrice.columns,\n",
    "            y=sumBuyPort,\n",
    "            palette=\"deep\").set_title('Суммарный объём продаж')\n",
    "\n",
    "plt.show()"
   ]
  },
  {
   "cell_type": "code",
   "execution_count": 189,
   "metadata": {},
   "outputs": [
    {
     "data": {
      "image/png": "[encoded data removed]",
      "text/plain": [
       "<Figure size 1152x576 with 2 Axes>"
      ]
     },
     "metadata": {
      "needs_background": "light"
     },
     "output_type": "display_data"
    }
   ],
   "source": [
    "G = nx.Graph()\n",
    "#Грани графа Морской порт -> продовцы\n",
    "for p in ProdIndex:\n",
    "    G.add_edge(p, 'Pt', w=DecisionVolPort[p]['Pt'])\n",
    "    \n",
    "#Грани графа продавцы -> покупатели\n",
    "for b in BuyIndex:\n",
    "    for p in ProdIndex:\n",
    "        G.add_edge(p, b, w=DecisionVolPrice[p][b])\n",
    "\n",
    "nodeKeys = []\n",
    "nodePos = []\n",
    "num_buy = 0\n",
    "num_prod = 0\n",
    "# Названия и позиции для узлов графа порт -> продовцы\n",
    "for p in ProdIndex:\n",
    "        x_prod = int(-NProds/2)+num_prod\n",
    "        num_prod+=1\n",
    "        nodeKeys.append('Pt')\n",
    "        nodeKeys.append(p)\n",
    "        \n",
    "        nodePos.append([0,2])\n",
    "        nodePos.append([x_prod,1])\n",
    "        \n",
    "        \n",
    "# Названия и позиции для узлов графа продавцы -> покупатели       \n",
    "for b in BuyIndex:\n",
    "    num_prod = 0\n",
    "    x_buy = int(-NBuyers/2)+num_buy\n",
    "    num_buy+=1\n",
    "    for p in ProdIndex:\n",
    "        x_prod = int(-NProds/2)+num_prod\n",
    "        num_prod+=1\n",
    "        nodeKeys.append(p)\n",
    "        nodeKeys.append(b)\n",
    "        \n",
    "        nodePos.append([x_prod,1])\n",
    "        nodePos.append([x_buy,0])       \n",
    "        \n",
    "pos = dict(zip(nodeKeys, nodePos))        \n",
    "#Разделение рёбер графа с весами больше нуля и весами меньше нуля    \n",
    "elarge = [(u, v) for (u, v, d) in G.edges(data=True) if d['w'] > 0]\n",
    "esmall = [(u, v) for (u, v, d) in G.edges(data=True) if d['w'] == 0]\n",
    "\n",
    "\n",
    "plt.figure(figsize=(16, 8))\n",
    "plt.subplot(1,2,1)\n",
    "#Узел графа Порт\n",
    "nx.draw_networkx_nodes(G, pos=pos, nodelist=['Pt'], node_color='blue', node_size=4000/((NProds+NBuyers)/2))\n",
    "#Узел графа Продавцы\n",
    "nx.draw_networkx_nodes(G, pos=pos, nodelist=ProdIndex, node_color='green', node_size=4000/((NProds+NBuyers)/2))\n",
    "#Узел графа Покупатели\n",
    "nx.draw_networkx_nodes(G, pos=pos, nodelist=BuyIndex, node_color='brown', node_size=4000/((NProds+NBuyers)/2))\n",
    "\n",
    "nx.draw_networkx_edges(G, pos=pos, edgelist=elarge, width=1, edge_color='black')\n",
    "\n",
    "nx.draw_networkx_edges(G, pos=pos, edgelist=esmall, width=1, alpha=0.3, edge_color='grey', style='dashed')\n",
    "\n",
    "edge_values = []\n",
    "for (u, v, d) in G.edges(data=True):\n",
    "    if d['w']>0:\n",
    "        edge_values.append(int(d['w']))\n",
    "        \n",
    "labels = dict(zip(elarge, edge_values))\n",
    "\n",
    "#nx.draw_networkx_edge_labels(G, pos=pos, edge_labels=labels, font_size=12, font_color='black')\n",
    "\n",
    "# labels\n",
    "nx.draw_networkx_labels(G, pos=pos, font_size=70/((NProds+NBuyers)/2), font_color='white')\n",
    "\n",
    "plt.axis('off')\n",
    "plt.subplot(1,2,2)\n",
    "plt.grid(True)\n",
    "sns.barplot(x=DecisionVolPrice.columns,\n",
    "            y=sumBuyPort,\n",
    "            palette=\"deep\").set_title('Суммарный объём продаж')\n",
    "\n",
    "#plt.axis('off')\n",
    "#print(boldText+'Визуализация модели\\n')\n",
    "plt.show()"
   ]
  },
  {
   "cell_type": "code",
   "execution_count": 190,
   "metadata": {},
   "outputs": [
    {
     "name": "stdout",
     "output_type": "stream",
     "text": [
      "Время вычисления : 42.0  ms\n"
     ]
    }
   ],
   "source": [
    "print(\"Время вычисления :\", np.round((stop - start)*1000),' ms')"
   ]
  }
 ],
 "metadata": {
  "kernelspec": {
   "display_name": "Python 3",
   "language": "python",
   "name": "python3"
  },
  "language_info": {
   "codemirror_mode": {
    "name": "ipython",
    "version": 3
   },
   "file_extension": ".py",
   "mimetype": "text/x-python",
   "name": "python",
   "nbconvert_exporter": "python",
   "pygments_lexer": "ipython3",
   "version": "3.7.4"
  }
 },
 "nbformat": 4,
 "nbformat_minor": 2
}
