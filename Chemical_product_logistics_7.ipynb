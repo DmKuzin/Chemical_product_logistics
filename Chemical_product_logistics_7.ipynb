{
 "cells": [
  {
   "cell_type": "markdown",
   "metadata": {},
   "source": [
    "# Логистика химических продуктов"
   ]
  },
  {
   "cell_type": "markdown",
   "metadata": {},
   "source": [
    "Задача относится к области моделирования ценообразования на\n",
    "олигополистических рынках с использованием элементов теории игр. При этом\n",
    "не требуется каких-то специальных знаний по теории игр, задача решается из\n",
    "общих соображений.\n",
    "Рассмотрим гипотетический рынок химического продукта, используемого\n",
    "в промышленности для изготовления растворителей и синтеза полимеров.\n",
    "Допустим, что имеется три производителя данного продукта и четыре крупных\n",
    "покупателя, другие покупатели являются слишком мелкими и их влиянием\n",
    "можно пренебречь. Предположим, что все три производителя производят\n",
    "абсолютно одинаковый продукт и у покупателей на внутреннем рынке нет\n",
    "никаких предпочтений относительно выбора того или иного производителя\n",
    "кроме цены.\n",
    "Поставки продукта от производителя покупателям производятся по\n",
    "железной дороге в цистернах за счет производителя, т.е. расходы на перевозку\n",
    "прибавляются к расходам производителя. Тариф на перевозку зависит от\n",
    "расстояния доставки. Каждый производитель может доставить продукт до\n",
    "любого покупателя, при этом понеся соответствующие расходы за\n",
    "транспортировку. Также у любого поставщика есть возможность доставить\n",
    "любое количество своего продукта по железной дороге в морской порт, откуда\n",
    "его можно продать зарубежным покупателям по некоторой фиксированной цене,\n",
    "не зависящей от количества продукта (т.е. цена продажи 1 тонны и 10 000 тонн\n",
    "продукта будет одинаковой). Предположим, что все поставщики действуют\n",
    "рационально. Также примем, что если один из них может повысить свою\n",
    "прибыль понизив цену и забрав долю рынка у конкурентов, то он непременно\n",
    "сделает это. Цена, по которой можно продать продукт в порту, составляет 50\n",
    "долларов за тонну.\n",
    "Покупателями продукта на внутреннем рынке являются крупные\n",
    "промышленные компании. При этом потребности покупателей неэластичны по\n",
    "цене в диапазоне до 100 долларов за тонну продукта, а при большей цене\n",
    "покупатели откажутся от покупки. Каждый покупатель приобретает\n",
    "фиксированное количество продукта каждый месяц. Примем, что покупатель\n",
    "гарантированно меняет поставщика, если ему предлагается цена на ниже той,\n",
    "по которой он покупает в настоящее время.\n",
    "Данные по рынку представлены в таблицах 1-3."
   ]
  },
  {
   "cell_type": "markdown",
   "metadata": {},
   "source": [
    "# Задача"
   ]
  },
  {
   "cell_type": "markdown",
   "metadata": {},
   "source": [
    " Задача заключается в том, чтобы определить, кто у кого и по каким ценам\n",
    "будет покупать продукт после того, как рынок придет в состояние равновесия,\n",
    "т.е. когда ни у кого из производителей не будет мотивации менять цены или\n",
    "объемы поставок. Важным моментом является то, что необходимо найти именно\n",
    "верхнюю границу такого равновесия, т.е. набор максимальных возможных\n",
    "равновесных цен поставок. На рынке, работающем по описанным правилам,\n",
    "цены сами придут к уровню максимальных, если в начальный момент они были\n",
    "заведомо больше (скажем, если максимальные равновесные цены находятся в\n",
    "районе 50 долларов, а в начальный момент времени они были, допустим, 70\n",
    "долларов)."
   ]
  },
  {
   "cell_type": "markdown",
   "metadata": {},
   "source": [
    "# Библиотеки"
   ]
  },
  {
   "cell_type": "code",
   "execution_count": 48,
   "metadata": {},
   "outputs": [],
   "source": [
    "import pandas as pd\n",
    "import docplex.mp as dpx\n",
    "import cplex\n",
    "import matplotlib.pyplot as plt\n",
    "import numpy as np\n",
    "import seaborn as sns\n",
    "import networkx as nx\n",
    "\n",
    "import warnings\n",
    "\n",
    "warnings.filterwarnings('ignore')\n",
    "\n",
    "boldText = '\\033[1m'"
   ]
  },
  {
   "cell_type": "code",
   "execution_count": 49,
   "metadata": {},
   "outputs": [],
   "source": [
    "#pip install networkx"
   ]
  },
  {
   "cell_type": "markdown",
   "metadata": {},
   "source": [
    "# 1. Исходные данные модели"
   ]
  },
  {
   "cell_type": "code",
   "execution_count": 50,
   "metadata": {},
   "outputs": [],
   "source": [
    "# Данные по поставщикам\n",
    "NProds = 3            #Количество производителей\n",
    "NBuyers = 3           #Количество покупателей\n",
    "d = 50                  #Константная цена товара в Порту\n",
    "BuyersMaxPrice = 100    #максимальная цена"
   ]
  },
  {
   "cell_type": "markdown",
   "metadata": {},
   "source": [
    "### 1.1 Производители"
   ]
  },
  {
   "cell_type": "code",
   "execution_count": 51,
   "metadata": {},
   "outputs": [],
   "source": [
    "ProdIndex=[]\n",
    "for i in range(NProds):\n",
    "    ProdIndex.append('P'+ str(i))\n",
    "\n",
    "Possibilities = np.random.uniform(low=200, high=1500, size=NProds).astype(int)\n",
    "SupplyPort = np.random.uniform(low=10, high=20, size=NProds).astype(int)\n",
    "ProdCost = np.random.uniform(low=10, high=30, size=NProds).astype(int)\n",
    "PortPrice = np.empty(NProds).astype(int)\n",
    "PortPrice.fill(d)\n",
    "Overhead = SupplyPort+ProdCost\n",
    "\n",
    "ProdData = {'Possibilities': Possibilities,\n",
    "            'SupplyPort': SupplyPort,\n",
    "            'ProdCost': ProdCost,\n",
    "            'PortPrice': PortPrice,\n",
    "            'Overhead': Overhead\n",
    "             }\n",
    "Producers = pd.DataFrame(ProdData, ProdIndex)"
   ]
  },
  {
   "cell_type": "code",
   "execution_count": null,
   "metadata": {},
   "outputs": [],
   "source": []
  },
  {
   "cell_type": "code",
   "execution_count": 52,
   "metadata": {},
   "outputs": [
    {
     "name": "stdout",
     "output_type": "stream",
     "text": [
      "\u001b[1mТаблица 1. Данные по поставщикам\n"
     ]
    },
    {
     "data": {
      "text/html": [
       "<div>\n",
       "<style scoped>\n",
       "    .dataframe tbody tr th:only-of-type {\n",
       "        vertical-align: middle;\n",
       "    }\n",
       "\n",
       "    .dataframe tbody tr th {\n",
       "        vertical-align: top;\n",
       "    }\n",
       "\n",
       "    .dataframe thead th {\n",
       "        text-align: right;\n",
       "    }\n",
       "</style>\n",
       "<table border=\"1\" class=\"dataframe\">\n",
       "  <thead>\n",
       "    <tr style=\"text-align: right;\">\n",
       "      <th></th>\n",
       "      <th>Possibilities</th>\n",
       "      <th>SupplyPort</th>\n",
       "      <th>ProdCost</th>\n",
       "      <th>PortPrice</th>\n",
       "      <th>Overhead</th>\n",
       "    </tr>\n",
       "  </thead>\n",
       "  <tbody>\n",
       "    <tr>\n",
       "      <td>P0</td>\n",
       "      <td>729</td>\n",
       "      <td>18</td>\n",
       "      <td>28</td>\n",
       "      <td>50</td>\n",
       "      <td>46</td>\n",
       "    </tr>\n",
       "    <tr>\n",
       "      <td>P1</td>\n",
       "      <td>1214</td>\n",
       "      <td>10</td>\n",
       "      <td>19</td>\n",
       "      <td>50</td>\n",
       "      <td>29</td>\n",
       "    </tr>\n",
       "    <tr>\n",
       "      <td>P2</td>\n",
       "      <td>1086</td>\n",
       "      <td>17</td>\n",
       "      <td>19</td>\n",
       "      <td>50</td>\n",
       "      <td>36</td>\n",
       "    </tr>\n",
       "  </tbody>\n",
       "</table>\n",
       "</div>"
      ],
      "text/plain": [
       "    Possibilities  SupplyPort  ProdCost  PortPrice  Overhead\n",
       "P0            729          18        28         50        46\n",
       "P1           1214          10        19         50        29\n",
       "P2           1086          17        19         50        36"
      ]
     },
     "execution_count": 52,
     "metadata": {},
     "output_type": "execute_result"
    }
   ],
   "source": [
    "print(boldText+'Таблица 1. Данные по поставщикам')\n",
    "Producers"
   ]
  },
  {
   "cell_type": "code",
   "execution_count": 53,
   "metadata": {},
   "outputs": [],
   "source": [
    "#Producers.index"
   ]
  },
  {
   "cell_type": "code",
   "execution_count": 54,
   "metadata": {},
   "outputs": [
    {
     "data": {
      "image/png": "[encoded data removed]",
      "text/plain": [
       "<Figure size 648x648 with 4 Axes>"
      ]
     },
     "metadata": {
      "needs_background": "light"
     },
     "output_type": "display_data"
    }
   ],
   "source": [
    "f, axes = plt.subplots(nrows=2, ncols=2, figsize=(9, 9), sharex=True)\n",
    "sns.despine(left=True)\n",
    "\n",
    "sns.barplot(x=Producers.index,\n",
    "            y='Possibilities',\n",
    "            data=Producers,\n",
    "            palette=\"deep\",\n",
    "            ax=axes[0, 0]).set_title('Производственные возможности')\n",
    "\n",
    "sns.barplot(x=Producers.index,\n",
    "            y='SupplyPort',\n",
    "            data=Producers,\n",
    "            palette=\"deep\",\n",
    "            ax=axes[0, 1]).set_title('Стоимость доставки в порт')\n",
    "\n",
    "sns.barplot(x=Producers.index,\n",
    "            y='ProdCost',\n",
    "            data=Producers,\n",
    "            palette=\"deep\",\n",
    "            ax=axes[1, 0]).set_title('Себестоимость производства')\n",
    "\n",
    "sns.barplot(x=Producers.index,\n",
    "            y='PortPrice',\n",
    "            data=Producers,\n",
    "            palette=\"deep\",\n",
    "            ax=axes[1, 1]).set_title('Цена в порту')\n",
    "\n",
    "plt.show()"
   ]
  },
  {
   "cell_type": "code",
   "execution_count": 55,
   "metadata": {},
   "outputs": [
    {
     "data": {
      "image/png": "[encoded data removed]",
      "text/plain": [
       "<Figure size 360x360 with 1 Axes>"
      ]
     },
     "metadata": {
      "needs_background": "light"
     },
     "output_type": "display_data"
    }
   ],
   "source": [
    "plt.figure(figsize=(5,5))\n",
    "plt.grid()\n",
    "plt.title('Себестоимость + Доставка в порт')\n",
    "sns.barplot(x=Producers.index,\n",
    "            y='Overhead',\n",
    "            data=Producers,\n",
    "            palette=\"deep\")\n",
    "plt.show()"
   ]
  },
  {
   "cell_type": "markdown",
   "metadata": {},
   "source": [
    "Чем ниже этот паказатель, тем в более широком диапазоне продавец может варьироваь ценой при поставке продуктов покупателям"
   ]
  },
  {
   "cell_type": "markdown",
   "metadata": {},
   "source": [
    "### 1.2 Покупатели"
   ]
  },
  {
   "cell_type": "code",
   "execution_count": 56,
   "metadata": {},
   "outputs": [],
   "source": [
    "# Месячные потребности покупателей, тонн\n",
    "BuyIndex = []\n",
    "for j in range(NBuyers):\n",
    "    BuyIndex.append('B'+ str(j))\n",
    "\n",
    "Scenario1 = np.random.uniform(low=50, high=200, size=NBuyers).astype(int)\n",
    "Scenario2 = np.random.uniform(low=150, high=500, size=NBuyers).astype(int)\n",
    "\n",
    "BuyData = {'Scenario1': Scenario1, 'Scenario2': Scenario2}\n",
    "\n",
    "Buyers = pd.DataFrame(BuyData, BuyIndex)"
   ]
  },
  {
   "cell_type": "code",
   "execution_count": 57,
   "metadata": {},
   "outputs": [
    {
     "name": "stdout",
     "output_type": "stream",
     "text": [
      "\u001b[1mТаблица 2. Месячные потребности покупателей, тонн\n"
     ]
    },
    {
     "data": {
      "text/html": [
       "<div>\n",
       "<style scoped>\n",
       "    .dataframe tbody tr th:only-of-type {\n",
       "        vertical-align: middle;\n",
       "    }\n",
       "\n",
       "    .dataframe tbody tr th {\n",
       "        vertical-align: top;\n",
       "    }\n",
       "\n",
       "    .dataframe thead th {\n",
       "        text-align: right;\n",
       "    }\n",
       "</style>\n",
       "<table border=\"1\" class=\"dataframe\">\n",
       "  <thead>\n",
       "    <tr style=\"text-align: right;\">\n",
       "      <th></th>\n",
       "      <th>Scenario1</th>\n",
       "      <th>Scenario2</th>\n",
       "    </tr>\n",
       "  </thead>\n",
       "  <tbody>\n",
       "    <tr>\n",
       "      <td>B0</td>\n",
       "      <td>170</td>\n",
       "      <td>262</td>\n",
       "    </tr>\n",
       "    <tr>\n",
       "      <td>B1</td>\n",
       "      <td>185</td>\n",
       "      <td>335</td>\n",
       "    </tr>\n",
       "    <tr>\n",
       "      <td>B2</td>\n",
       "      <td>160</td>\n",
       "      <td>466</td>\n",
       "    </tr>\n",
       "  </tbody>\n",
       "</table>\n",
       "</div>"
      ],
      "text/plain": [
       "    Scenario1  Scenario2\n",
       "B0        170        262\n",
       "B1        185        335\n",
       "B2        160        466"
      ]
     },
     "execution_count": 57,
     "metadata": {},
     "output_type": "execute_result"
    }
   ],
   "source": [
    "print(boldText+'Таблица 2. Месячные потребности покупателей, тонн')\n",
    "Buyers.head()"
   ]
  },
  {
   "cell_type": "code",
   "execution_count": 58,
   "metadata": {},
   "outputs": [
    {
     "name": "stdout",
     "output_type": "stream",
     "text": [
      "Scenario1\n"
     ]
    }
   ],
   "source": [
    "#выбор сценария\n",
    "Scenario = Buyers.columns[0] # 0 - Scenario1\n",
    "                             # 1 - Scenario2\n",
    "print(Scenario)"
   ]
  },
  {
   "cell_type": "code",
   "execution_count": 59,
   "metadata": {},
   "outputs": [
    {
     "data": {
      "image/png": "[encoded data removed]",
      "text/plain": [
       "<Figure size 432x288 with 1 Axes>"
      ]
     },
     "metadata": {
      "needs_background": "light"
     },
     "output_type": "display_data"
    }
   ],
   "source": [
    "sns.barplot(x=Buyers.index,\n",
    "            y='Scenario1',\n",
    "            data=Buyers,\n",
    "            palette=\"deep\").set_title('Потребности покупателей')\n",
    "plt.show()"
   ]
  },
  {
   "cell_type": "code",
   "execution_count": 60,
   "metadata": {},
   "outputs": [],
   "source": [
    "# Тарифы на железнодорожные перевозки\n",
    "#RailData = {'Producer1':[14,23,21,42], 'Producer2':[26,10,19,36], 'Producer3':[15,38,18,15]}\n",
    "\n",
    "RailData = np.random.uniform(low=10, high=20, size=(NBuyers, NProds)).astype(int)\n",
    "\n",
    "RailDataDict = dict(zip(ProdIndex, RailData.T))\n",
    "\n",
    "RailFares = pd.DataFrame(RailDataDict, BuyIndex)"
   ]
  },
  {
   "cell_type": "code",
   "execution_count": 61,
   "metadata": {},
   "outputs": [
    {
     "name": "stdout",
     "output_type": "stream",
     "text": [
      "\u001b[1mТаблица 3. Тарифы на железнодорожные перевозки\n"
     ]
    },
    {
     "data": {
      "text/html": [
       "<div>\n",
       "<style scoped>\n",
       "    .dataframe tbody tr th:only-of-type {\n",
       "        vertical-align: middle;\n",
       "    }\n",
       "\n",
       "    .dataframe tbody tr th {\n",
       "        vertical-align: top;\n",
       "    }\n",
       "\n",
       "    .dataframe thead th {\n",
       "        text-align: right;\n",
       "    }\n",
       "</style>\n",
       "<table border=\"1\" class=\"dataframe\">\n",
       "  <thead>\n",
       "    <tr style=\"text-align: right;\">\n",
       "      <th></th>\n",
       "      <th>P0</th>\n",
       "      <th>P1</th>\n",
       "      <th>P2</th>\n",
       "    </tr>\n",
       "  </thead>\n",
       "  <tbody>\n",
       "    <tr>\n",
       "      <td>B0</td>\n",
       "      <td>19</td>\n",
       "      <td>14</td>\n",
       "      <td>11</td>\n",
       "    </tr>\n",
       "    <tr>\n",
       "      <td>B1</td>\n",
       "      <td>14</td>\n",
       "      <td>14</td>\n",
       "      <td>17</td>\n",
       "    </tr>\n",
       "    <tr>\n",
       "      <td>B2</td>\n",
       "      <td>17</td>\n",
       "      <td>18</td>\n",
       "      <td>11</td>\n",
       "    </tr>\n",
       "  </tbody>\n",
       "</table>\n",
       "</div>"
      ],
      "text/plain": [
       "    P0  P1  P2\n",
       "B0  19  14  11\n",
       "B1  14  14  17\n",
       "B2  17  18  11"
      ]
     },
     "execution_count": 61,
     "metadata": {},
     "output_type": "execute_result"
    }
   ],
   "source": [
    "print(boldText+'Таблица 3. Тарифы на железнодорожные перевозки')\n",
    "RailFares.head()"
   ]
  },
  {
   "cell_type": "code",
   "execution_count": 62,
   "metadata": {},
   "outputs": [
    {
     "name": "stdout",
     "output_type": "stream",
     "text": [
      "\u001b[1mТарифы на ЖД перевозки\n"
     ]
    },
    {
     "data": {
      "image/png": "[encoded data removed]",
      "text/plain": [
       "<Figure size 1152x288 with 3 Axes>"
      ]
     },
     "metadata": {
      "needs_background": "light"
     },
     "output_type": "display_data"
    }
   ],
   "source": [
    "f, axes = plt.subplots(nrows=1, ncols=3, figsize=(16, 4), sharex=True)\n",
    "#sns.despine(left=True)\n",
    "\n",
    "sns.barplot(x=RailFares.index,\n",
    "            y='P0',\n",
    "            data=RailFares,\n",
    "            palette=\"deep\",\n",
    "            ax=axes[0]).set_title('Производитель 1')\n",
    "\n",
    "sns.barplot(x=RailFares.index,\n",
    "            y='P1',\n",
    "            data=RailFares,\n",
    "            palette=\"deep\",\n",
    "            ax=axes[1]).set_title('Производитель 2')\n",
    "\n",
    "sns.barplot(x=RailFares.index,\n",
    "            y='P2',\n",
    "            data=RailFares,\n",
    "            palette=\"deep\",\n",
    "            ax=axes[2]).set_title('Производитель 3')\n",
    "\n",
    "print(boldText+'Тарифы на ЖД перевозки')\n",
    "plt.show()"
   ]
  },
  {
   "cell_type": "code",
   "execution_count": 63,
   "metadata": {},
   "outputs": [],
   "source": [
    "totCost = RailFares + Producers['ProdCost']"
   ]
  },
  {
   "cell_type": "code",
   "execution_count": 64,
   "metadata": {},
   "outputs": [
    {
     "name": "stdout",
     "output_type": "stream",
     "text": [
      "\u001b[1mТарифы на железнодорожные перевозки + себестоимость производства\n"
     ]
    },
    {
     "data": {
      "text/html": [
       "<div>\n",
       "<style scoped>\n",
       "    .dataframe tbody tr th:only-of-type {\n",
       "        vertical-align: middle;\n",
       "    }\n",
       "\n",
       "    .dataframe tbody tr th {\n",
       "        vertical-align: top;\n",
       "    }\n",
       "\n",
       "    .dataframe thead th {\n",
       "        text-align: right;\n",
       "    }\n",
       "</style>\n",
       "<table border=\"1\" class=\"dataframe\">\n",
       "  <thead>\n",
       "    <tr style=\"text-align: right;\">\n",
       "      <th></th>\n",
       "      <th>P0</th>\n",
       "      <th>P1</th>\n",
       "      <th>P2</th>\n",
       "    </tr>\n",
       "  </thead>\n",
       "  <tbody>\n",
       "    <tr>\n",
       "      <td>B0</td>\n",
       "      <td>47</td>\n",
       "      <td>33</td>\n",
       "      <td>30</td>\n",
       "    </tr>\n",
       "    <tr>\n",
       "      <td>B1</td>\n",
       "      <td>42</td>\n",
       "      <td>33</td>\n",
       "      <td>36</td>\n",
       "    </tr>\n",
       "    <tr>\n",
       "      <td>B2</td>\n",
       "      <td>45</td>\n",
       "      <td>37</td>\n",
       "      <td>30</td>\n",
       "    </tr>\n",
       "  </tbody>\n",
       "</table>\n",
       "</div>"
      ],
      "text/plain": [
       "    P0  P1  P2\n",
       "B0  47  33  30\n",
       "B1  42  33  36\n",
       "B2  45  37  30"
      ]
     },
     "execution_count": 64,
     "metadata": {},
     "output_type": "execute_result"
    }
   ],
   "source": [
    "print(boldText+'Тарифы на железнодорожные перевозки + себестоимость производства')\n",
    "totCost.head()"
   ]
  },
  {
   "cell_type": "code",
   "execution_count": 65,
   "metadata": {},
   "outputs": [
    {
     "name": "stdout",
     "output_type": "stream",
     "text": [
      "\u001b[1mТарифы на ЖД перевозки + Себестоимость производства\n"
     ]
    },
    {
     "data": {
      "image/png": "[encoded data removed]",
      "text/plain": [
       "<Figure size 1152x288 with 3 Axes>"
      ]
     },
     "metadata": {
      "needs_background": "light"
     },
     "output_type": "display_data"
    }
   ],
   "source": [
    "f, axes = plt.subplots(nrows=1, ncols=3, figsize=(16, 4), sharex=True)\n",
    "#sns.despine(left=True)\n",
    "\n",
    "sns.barplot(x=totCost.index,\n",
    "            y='P0',\n",
    "            data=totCost,\n",
    "            palette=\"deep\",\n",
    "            ax=axes[0]).set_title('Производитель 1')\n",
    "\n",
    "sns.barplot(x=totCost.index,\n",
    "            y='P1',\n",
    "            data=totCost,\n",
    "            palette=\"deep\",\n",
    "            ax=axes[1]).set_title('Производитель 2')\n",
    "\n",
    "sns.barplot(x=totCost.index,\n",
    "            y='P2',\n",
    "            data=totCost,\n",
    "            palette=\"deep\",\n",
    "            ax=axes[2]).set_title('Производитель 3')\n",
    "\n",
    "print(boldText+'Тарифы на ЖД перевозки + Себестоимость производства')\n",
    "plt.show()"
   ]
  },
  {
   "cell_type": "markdown",
   "metadata": {},
   "source": [
    "- Здесь видно, что например, минимальные накладные расходы для доставки товаров второму покупателю имеет второй производитель.\n",
    "Однако, за счёт большего приимущества первого производителя по накладным расходам доставки продуктов в порт конкурентную борьбу по минимальной предложенной цене выигрывает он."
   ]
  },
  {
   "cell_type": "code",
   "execution_count": 66,
   "metadata": {},
   "outputs": [],
   "source": [
    "minCostProd = np.zeros((NProds, NBuyers)).astype(int)\n",
    "for j in range(NBuyers):\n",
    "    min_idx = np.argmin(totCost.values[j,:])\n",
    "    minCostProd[min_idx, j] = totCost.values[j,min_idx]\n",
    "    #minCostProd.append(totCost.values[j,min_idx])\n"
   ]
  },
  {
   "cell_type": "code",
   "execution_count": 67,
   "metadata": {},
   "outputs": [],
   "source": [
    "minCostProd = pd.DataFrame(data=minCostProd, index=totCost.columns, columns=totCost.index)"
   ]
  },
  {
   "cell_type": "code",
   "execution_count": 68,
   "metadata": {},
   "outputs": [
    {
     "data": {
      "text/html": [
       "<div>\n",
       "<style scoped>\n",
       "    .dataframe tbody tr th:only-of-type {\n",
       "        vertical-align: middle;\n",
       "    }\n",
       "\n",
       "    .dataframe tbody tr th {\n",
       "        vertical-align: top;\n",
       "    }\n",
       "\n",
       "    .dataframe thead th {\n",
       "        text-align: right;\n",
       "    }\n",
       "</style>\n",
       "<table border=\"1\" class=\"dataframe\">\n",
       "  <thead>\n",
       "    <tr style=\"text-align: right;\">\n",
       "      <th></th>\n",
       "      <th>B0</th>\n",
       "      <th>B1</th>\n",
       "      <th>B2</th>\n",
       "    </tr>\n",
       "  </thead>\n",
       "  <tbody>\n",
       "    <tr>\n",
       "      <td>P0</td>\n",
       "      <td>0</td>\n",
       "      <td>0</td>\n",
       "      <td>0</td>\n",
       "    </tr>\n",
       "    <tr>\n",
       "      <td>P1</td>\n",
       "      <td>0</td>\n",
       "      <td>33</td>\n",
       "      <td>0</td>\n",
       "    </tr>\n",
       "    <tr>\n",
       "      <td>P2</td>\n",
       "      <td>30</td>\n",
       "      <td>0</td>\n",
       "      <td>30</td>\n",
       "    </tr>\n",
       "  </tbody>\n",
       "</table>\n",
       "</div>"
      ],
      "text/plain": [
       "    B0  B1  B2\n",
       "P0   0   0   0\n",
       "P1   0  33   0\n",
       "P2  30   0  30"
      ]
     },
     "execution_count": 68,
     "metadata": {},
     "output_type": "execute_result"
    }
   ],
   "source": [
    "minCostProd.head()"
   ]
  },
  {
   "cell_type": "code",
   "execution_count": 69,
   "metadata": {},
   "outputs": [],
   "source": [
    "# Тарифы на жд перевозки от i-го производителя j-му покупателю + себестоимость производства i-го производителя\n",
    "k = np.zeros((NProds, NBuyers)).astype(int)\n",
    "i=0\n",
    "j=0\n",
    "for prod, pcost in zip(RailFares, Producers['ProdCost']): # перебор по Producers\n",
    "    j=0\n",
    "    for rfares in RailFares[prod]:\n",
    "        k[i,j] = rfares + pcost\n",
    "        j+=1\n",
    "    i+=1"
   ]
  },
  {
   "cell_type": "code",
   "execution_count": 70,
   "metadata": {},
   "outputs": [],
   "source": [
    "# Тарифы на жд перевозки в порт + себестоимость производства i-го производителя \n",
    "z = np.empty(NProds).astype(int)\n",
    "i=0\n",
    "for SupplyPort, ProdCost in zip(Producers['SupplyPort'], Producers['ProdCost']):\n",
    "    z[i] = SupplyPort + ProdCost\n",
    "    i+=1"
   ]
  },
  {
   "cell_type": "code",
   "execution_count": 71,
   "metadata": {},
   "outputs": [
    {
     "name": "stdout",
     "output_type": "stream",
     "text": [
      "Тарифы на жд перевозки в порт + себестоимость производства i-го производителя\n",
      "[46 29 36]\n"
     ]
    }
   ],
   "source": [
    "print('Тарифы на жд перевозки в порт + себестоимость производства i-го производителя')\n",
    "print(z[:10])"
   ]
  },
  {
   "cell_type": "markdown",
   "metadata": {},
   "source": [
    "### Минимально выгодная цена для производителей при поставке продуктов покупателям\n",
    "\n",
    " - Условие снижение цены для покупателей:\n",
    "     xij - kij > d - zi\n",
    "     \n",
    " - Минимально выгодная цена для производителей при поставке покупателям:\n",
    "     xij = d - zi + kij + 1\n"
   ]
  },
  {
   "cell_type": "code",
   "execution_count": 72,
   "metadata": {},
   "outputs": [],
   "source": [
    "#Максимальная выгодная цена для продажи\n",
    "ProdBestPrices = np.zeros((NProds, NBuyers)).astype(int)"
   ]
  },
  {
   "cell_type": "code",
   "execution_count": 73,
   "metadata": {},
   "outputs": [],
   "source": [
    "for j in range(NBuyers):\n",
    "    i=0\n",
    "    for portPrice, supplyPort, supplyProd in zip(Producers['PortPrice'], Producers['SupplyPort'], k[:,j]):\n",
    "#       print(portPrice, supplyPort, supplyProd)\n",
    "        ProdBestPrices[i,j] = portPrice-supplyPort+1+supplyProd\n",
    "        i+=1"
   ]
  },
  {
   "cell_type": "code",
   "execution_count": 74,
   "metadata": {},
   "outputs": [
    {
     "name": "stdout",
     "output_type": "stream",
     "text": [
      "\u001b[1mМаксимальная выгодные цены для продажи:\n"
     ]
    },
    {
     "data": {
      "text/plain": [
       "array([[80, 75, 78],\n",
       "       [74, 74, 78],\n",
       "       [64, 70, 64]])"
      ]
     },
     "execution_count": 74,
     "metadata": {},
     "output_type": "execute_result"
    }
   ],
   "source": [
    "print(boldText+'Максимальная выгодные цены для продажи:')\n",
    "ProdBestPrices[:10]"
   ]
  },
  {
   "cell_type": "code",
   "execution_count": 75,
   "metadata": {},
   "outputs": [
    {
     "name": "stdout",
     "output_type": "stream",
     "text": [
      "\u001b[1mМатрица спроса покупателей\n"
     ]
    },
    {
     "data": {
      "text/plain": [
       "array([[0, 0, 0],\n",
       "       [0, 0, 0],\n",
       "       [1, 1, 1]])"
      ]
     },
     "execution_count": 75,
     "metadata": {},
     "output_type": "execute_result"
    }
   ],
   "source": [
    "#Матрица спроса покупателей\n",
    "h = np.zeros((NProds, NBuyers)).astype(int)\n",
    "for j in range(NBuyers):\n",
    "    min_idxs = np.argmin(ProdBestPrices[:,j])\n",
    "    h[min_idxs, j] = 1\n",
    "\n",
    "print(boldText+'Матрица спроса покупателей')\n",
    "h[:10]"
   ]
  },
  {
   "cell_type": "markdown",
   "metadata": {},
   "source": [
    "# Решение задачи"
   ]
  },
  {
   "cell_type": "markdown",
   "metadata": {},
   "source": [
    "Задача заключается в том, чтобы определить, кто у кого и по каким ценам\n",
    "будет покупать продукт после того, как рынок придет в состояние равновесия,\n",
    "т.е. когда ни у кого из производителей не будет мотивации менять цены или\n",
    "объемы поставок. Важным моментом является то, что необходимо найти именно\n",
    "верхнюю границу такого равновесия, т.е. набор максимальных возможных\n",
    "равновесных цен поставок. На рынке, работающем по описанным правилам,\n",
    "цены сами придут к уровню максимальных, если в начальный момент они были\n",
    "заведомо больше (скажем, если максимальные равновесные цены находятся в\n",
    "районе 50 долларов, а в начальный момент времени они были, допустим, 70\n",
    "долларов).\n",
    "Необходимо заполнить таблицу 4 ценами и объемами поставок."
   ]
  },
  {
   "cell_type": "markdown",
   "metadata": {},
   "source": [
    "# Построение модели"
   ]
  },
  {
   "cell_type": "code",
   "execution_count": 76,
   "metadata": {},
   "outputs": [],
   "source": [
    "from docplex.mp.model import Model\n",
    "mdl = dpx.model.Model(\"ChemProd\")"
   ]
  },
  {
   "cell_type": "markdown",
   "metadata": {},
   "source": [
    "# Переменные решения"
   ]
  },
  {
   "cell_type": "markdown",
   "metadata": {},
   "source": [
    "Определим переменные решения:\n",
    "\n",
    " - xij – количество тонн продукта поставленное от i-го производителя j-му покупателю;\n",
    " - yij – цена за тонну продукта i-го производителя j-му покупателю;\n",
    " - pi  – количество продукта перевнзённое от i-го производителя в порт."
   ]
  },
  {
   "cell_type": "code",
   "execution_count": 77,
   "metadata": {},
   "outputs": [],
   "source": [
    "# матрица решений, показывающая количество тонн продукта поставленное от i-го производителя j-му покупателю\n",
    "# столбец-производитель; строка-покупатель\n",
    "x = mdl.integer_var_matrix(NProds, NBuyers, name=lambda ij: \"ProdVol_to_Buyer%d_%d\" %(ij[0], ij[1]))"
   ]
  },
  {
   "cell_type": "code",
   "execution_count": 78,
   "metadata": {},
   "outputs": [],
   "source": [
    "# матрица решений, показывающая цену за тонну продукта i-го производителя j-му покупателю\n",
    "# столбец-производитель; строка-покупатель\n",
    "y = mdl.integer_var_matrix(NProds, NBuyers, name=lambda ij: \"ProdPrice_to_Buyer%d_%d\" %(ij[0], ij[1]))"
   ]
  },
  {
   "cell_type": "code",
   "execution_count": 79,
   "metadata": {},
   "outputs": [],
   "source": [
    "# вектор решений - количество продукта перевнзённое в порт\n",
    "p = mdl.integer_var_list(NProds, name='ProdVol_to_port')"
   ]
  },
  {
   "cell_type": "markdown",
   "metadata": {},
   "source": [
    "# Ограничения модели"
   ]
  },
  {
   "cell_type": "markdown",
   "metadata": {},
   "source": [
    "<img style=\"float: left;\" src=\"files/constrains.png\">"
   ]
  },
  {
   "cell_type": "markdown",
   "metadata": {},
   "source": [
    "1.\tОграничения по количеству тонн поставляемого продукта"
   ]
  },
  {
   "cell_type": "code",
   "execution_count": 80,
   "metadata": {},
   "outputs": [],
   "source": [
    "# Ограничения по количеству тонн производимого продукта для производителей\n",
    "for i, possib, cts_name in zip(range(NProds), Producers['Possibilities'], Producers['Possibilities'].index):\n",
    "    mdl.add_constraint(mdl.sum(x[i,j] for j in range(NBuyers)) + p[i] <= possib, ctname='Possib'+cts_name)"
   ]
  },
  {
   "cell_type": "markdown",
   "metadata": {},
   "source": [
    "2.\tОграничения по потребностям покупателей"
   ]
  },
  {
   "cell_type": "code",
   "execution_count": 81,
   "metadata": {},
   "outputs": [],
   "source": [
    "# Ограничения по потребностям покупателей\n",
    "for j, req, buyer in zip(range(NBuyers), Buyers[Scenario], Buyers[Scenario].index):\n",
    "    mdl.add_constraint(mdl.sum(x[i,j] for i in range(NProds)) == req,  ctname=buyer+'Need')"
   ]
  },
  {
   "cell_type": "markdown",
   "metadata": {},
   "source": [
    "3.\tОграничения по цене продукта"
   ]
  },
  {
   "cell_type": "code",
   "execution_count": 82,
   "metadata": {},
   "outputs": [],
   "source": [
    "# Ограничения по цене продукта\n",
    "for i in range(NProds):\n",
    "    for j in range(NBuyers):\n",
    "        #mdl.add_constraints( [y[i,j] <= BuyersMaxPrice, y[i,j] >= 0], ['BuyersMaxPrice', 'BuyersMinPrice'])\n",
    "        mdl.add_constraint( y[i,j] == ProdBestPrices[i,j], 'ProdBestPrices')"
   ]
  },
  {
   "cell_type": "code",
   "execution_count": 83,
   "metadata": {},
   "outputs": [
    {
     "name": "stdout",
     "output_type": "stream",
     "text": [
      "Информация о модели\n",
      "Model: ChemProd\n",
      " - number of variables: 21\n",
      "   - binary=0, integer=21, continuous=0\n",
      " - number of constraints: 15\n",
      "   - linear=15\n",
      " - parameters: defaults\n",
      " - problem type is: MILP\n"
     ]
    }
   ],
   "source": [
    "print('Информация о модели')\n",
    "mdl.print_information()"
   ]
  },
  {
   "cell_type": "markdown",
   "metadata": {},
   "source": [
    "# Целевая функция"
   ]
  },
  {
   "cell_type": "markdown",
   "metadata": {},
   "source": [
    "<img style=\"float: left;\" src=\"files/target_func.png\">"
   ]
  },
  {
   "cell_type": "raw",
   "metadata": {},
   "source": [
    "y_ij – цена за тонну продукта i-го производителя j-му покупателю;\n",
    "x_ij – количество тонн продукта поставленное от i-го производителя j-му покупателю;\n",
    "k_ij – затраты на ж.д. перевозку и производство продукта от i-го производителя j-му покупателю;\n",
    "h_ij – есть или нету (1-есть, 0-нету) поставка продукта от i-го производителя j-му покупателю;\n",
    "p_i – количество тонн продукта поставленное от i-го производителя в порт;\n",
    "d – фиксированная цена на продажу продукта в порту;\n",
    "z_i – затраты на ж.д. перевозку и производство продукта от i-го производителя в порт;\n",
    "n – количество производителей;\n",
    "m – количество покупателей."
   ]
  },
  {
   "cell_type": "code",
   "execution_count": 84,
   "metadata": {},
   "outputs": [],
   "source": [
    "#Доставка покупателям\n",
    "SalesBuyers = mdl.sum( (y[i,j]-k[i,j] )*x[i,j]*h[i,j] for i in range(NProds) for j in range(NBuyers) ) \n",
    "#Доставка в порт\n",
    "SalesPort = mdl.sum( (d-z[i])*p[i] for i in range(NProds) )\n",
    "#Целевая функция\n",
    "mdl.maximize(SalesBuyers + SalesPort)"
   ]
  },
  {
   "cell_type": "markdown",
   "metadata": {},
   "source": [
    "# Решение для модели"
   ]
  },
  {
   "cell_type": "code",
   "execution_count": 85,
   "metadata": {},
   "outputs": [
    {
     "name": "stdout",
     "output_type": "stream",
     "text": [
      "Model: ChemProd\n",
      " - number of variables: 21\n",
      "   - binary=0, integer=21, continuous=0\n",
      " - number of constraints: 15\n",
      "   - linear=15\n",
      " - parameters: defaults\n",
      " - problem type is: MIQP\n"
     ]
    }
   ],
   "source": [
    "mdl.print_information()"
   ]
  },
  {
   "cell_type": "code",
   "execution_count": 86,
   "metadata": {},
   "outputs": [
    {
     "name": "stdout",
     "output_type": "stream",
     "text": [
      "Wall time: 8.97 ms\n"
     ]
    }
   ],
   "source": [
    "%%time\n",
    "assert mdl.solve(), \"!!! Solve of the model fails\""
   ]
  },
  {
   "cell_type": "code",
   "execution_count": 87,
   "metadata": {},
   "outputs": [],
   "source": [
    "prodsVol = np.zeros((NProds, NBuyers)).astype(int)\n",
    "prodsPrice = np.zeros((NProds, NBuyers)).astype(int)\n",
    "VolPrice = np.zeros((NProds, NBuyers)).astype(int)\n",
    "VolPricePort = np.zeros((NProds, 1)).astype(int)\n",
    "for i in range(NProds):\n",
    "    VolPricePort[i] = int((d - z[i])*p[i].solution_value)\n",
    "    for j in range(NBuyers):\n",
    "        prodsVol[i,j] = x[i,j].solution_value\n",
    "        prodsPrice[i,j] = y[i,j].solution_value\n",
    "        VolPrice[i,j] = (y[i,j].solution_value - k[i,j])*x[i,j].solution_value\n",
    "\n",
    "#Количество тонн продукта от i-го производителя j-му покупателю\n",
    "VolData = dict(zip(ProdIndex, prodsVol))\n",
    "DecisionVol = pd.DataFrame(VolData, BuyIndex)\n",
    "#Количество тонн продукта от i-го производителя в порт\n",
    "VolPricePortData = dict(zip(ProdIndex, (VolPricePort)))\n",
    "DecisionVolPort = pd.DataFrame(VolPricePortData, index=['Pt'])\n",
    "#Цена за тонну продукта i-го производителя j-му покупателю\n",
    "PriceData = dict(zip(ProdIndex, prodsPrice))\n",
    "DecisionPrice = pd.DataFrame(PriceData, BuyIndex)\n",
    "#Объём продаж i-го производителя j-му покупателю за вычетом затрат на доставку товара\n",
    "VolPriceData = dict(zip(ProdIndex, VolPrice))\n",
    "DecisionVolPrice = pd.DataFrame(VolPriceData, BuyIndex)"
   ]
  },
  {
   "cell_type": "code",
   "execution_count": 88,
   "metadata": {},
   "outputs": [
    {
     "name": "stdout",
     "output_type": "stream",
     "text": [
      "\u001b[1mКоличество тонн продукта поставленное от i-го производителя j-му покупателю\n"
     ]
    },
    {
     "data": {
      "text/html": [
       "<div>\n",
       "<style scoped>\n",
       "    .dataframe tbody tr th:only-of-type {\n",
       "        vertical-align: middle;\n",
       "    }\n",
       "\n",
       "    .dataframe tbody tr th {\n",
       "        vertical-align: top;\n",
       "    }\n",
       "\n",
       "    .dataframe thead th {\n",
       "        text-align: right;\n",
       "    }\n",
       "</style>\n",
       "<table border=\"1\" class=\"dataframe\">\n",
       "  <thead>\n",
       "    <tr style=\"text-align: right;\">\n",
       "      <th></th>\n",
       "      <th>P0</th>\n",
       "      <th>P1</th>\n",
       "      <th>P2</th>\n",
       "    </tr>\n",
       "  </thead>\n",
       "  <tbody>\n",
       "    <tr>\n",
       "      <td>B0</td>\n",
       "      <td>0</td>\n",
       "      <td>0</td>\n",
       "      <td>170</td>\n",
       "    </tr>\n",
       "    <tr>\n",
       "      <td>B1</td>\n",
       "      <td>0</td>\n",
       "      <td>0</td>\n",
       "      <td>185</td>\n",
       "    </tr>\n",
       "    <tr>\n",
       "      <td>B2</td>\n",
       "      <td>0</td>\n",
       "      <td>0</td>\n",
       "      <td>160</td>\n",
       "    </tr>\n",
       "  </tbody>\n",
       "</table>\n",
       "</div>"
      ],
      "text/plain": [
       "    P0  P1   P2\n",
       "B0   0   0  170\n",
       "B1   0   0  185\n",
       "B2   0   0  160"
      ]
     },
     "execution_count": 88,
     "metadata": {},
     "output_type": "execute_result"
    }
   ],
   "source": [
    "print(boldText+'Количество тонн продукта поставленное от i-го производителя j-му покупателю')\n",
    "DecisionVol.head()"
   ]
  },
  {
   "cell_type": "code",
   "execution_count": 89,
   "metadata": {},
   "outputs": [
    {
     "name": "stdout",
     "output_type": "stream",
     "text": [
      "\u001b[1mКоличество тонн продукта поставленное от i-го производителя в порт\n"
     ]
    },
    {
     "data": {
      "text/html": [
       "<div>\n",
       "<style scoped>\n",
       "    .dataframe tbody tr th:only-of-type {\n",
       "        vertical-align: middle;\n",
       "    }\n",
       "\n",
       "    .dataframe tbody tr th {\n",
       "        vertical-align: top;\n",
       "    }\n",
       "\n",
       "    .dataframe thead th {\n",
       "        text-align: right;\n",
       "    }\n",
       "</style>\n",
       "<table border=\"1\" class=\"dataframe\">\n",
       "  <thead>\n",
       "    <tr style=\"text-align: right;\">\n",
       "      <th></th>\n",
       "      <th>P0</th>\n",
       "      <th>P1</th>\n",
       "      <th>P2</th>\n",
       "    </tr>\n",
       "  </thead>\n",
       "  <tbody>\n",
       "    <tr>\n",
       "      <td>Pt</td>\n",
       "      <td>2916</td>\n",
       "      <td>25494</td>\n",
       "      <td>7994</td>\n",
       "    </tr>\n",
       "  </tbody>\n",
       "</table>\n",
       "</div>"
      ],
      "text/plain": [
       "      P0     P1    P2\n",
       "Pt  2916  25494  7994"
      ]
     },
     "execution_count": 89,
     "metadata": {},
     "output_type": "execute_result"
    }
   ],
   "source": [
    "print(boldText+'Количество тонн продукта поставленное от i-го производителя в порт')\n",
    "DecisionVolPort.head()"
   ]
  },
  {
   "cell_type": "code",
   "execution_count": 90,
   "metadata": {},
   "outputs": [
    {
     "name": "stdout",
     "output_type": "stream",
     "text": [
      "\u001b[1mЦена за тонну продукта i-го производителя j-му покупателю\n"
     ]
    },
    {
     "data": {
      "text/html": [
       "<div>\n",
       "<style scoped>\n",
       "    .dataframe tbody tr th:only-of-type {\n",
       "        vertical-align: middle;\n",
       "    }\n",
       "\n",
       "    .dataframe tbody tr th {\n",
       "        vertical-align: top;\n",
       "    }\n",
       "\n",
       "    .dataframe thead th {\n",
       "        text-align: right;\n",
       "    }\n",
       "</style>\n",
       "<table border=\"1\" class=\"dataframe\">\n",
       "  <thead>\n",
       "    <tr style=\"text-align: right;\">\n",
       "      <th></th>\n",
       "      <th>P0</th>\n",
       "      <th>P1</th>\n",
       "      <th>P2</th>\n",
       "    </tr>\n",
       "  </thead>\n",
       "  <tbody>\n",
       "    <tr>\n",
       "      <td>B0</td>\n",
       "      <td>80</td>\n",
       "      <td>74</td>\n",
       "      <td>64</td>\n",
       "    </tr>\n",
       "    <tr>\n",
       "      <td>B1</td>\n",
       "      <td>75</td>\n",
       "      <td>74</td>\n",
       "      <td>70</td>\n",
       "    </tr>\n",
       "    <tr>\n",
       "      <td>B2</td>\n",
       "      <td>78</td>\n",
       "      <td>78</td>\n",
       "      <td>64</td>\n",
       "    </tr>\n",
       "  </tbody>\n",
       "</table>\n",
       "</div>"
      ],
      "text/plain": [
       "    P0  P1  P2\n",
       "B0  80  74  64\n",
       "B1  75  74  70\n",
       "B2  78  78  64"
      ]
     },
     "execution_count": 90,
     "metadata": {},
     "output_type": "execute_result"
    }
   ],
   "source": [
    "print(boldText+'Цена за тонну продукта i-го производителя j-му покупателю')\n",
    "DecisionPrice.head()"
   ]
  },
  {
   "cell_type": "code",
   "execution_count": 91,
   "metadata": {},
   "outputs": [
    {
     "name": "stdout",
     "output_type": "stream",
     "text": [
      "\u001b[1mОбъём продаж i-го производителя j-му покупателю за вычетом затрат на доставку товара\n"
     ]
    },
    {
     "data": {
      "text/html": [
       "<div>\n",
       "<style scoped>\n",
       "    .dataframe tbody tr th:only-of-type {\n",
       "        vertical-align: middle;\n",
       "    }\n",
       "\n",
       "    .dataframe tbody tr th {\n",
       "        vertical-align: top;\n",
       "    }\n",
       "\n",
       "    .dataframe thead th {\n",
       "        text-align: right;\n",
       "    }\n",
       "</style>\n",
       "<table border=\"1\" class=\"dataframe\">\n",
       "  <thead>\n",
       "    <tr style=\"text-align: right;\">\n",
       "      <th></th>\n",
       "      <th>P0</th>\n",
       "      <th>P1</th>\n",
       "      <th>P2</th>\n",
       "    </tr>\n",
       "  </thead>\n",
       "  <tbody>\n",
       "    <tr>\n",
       "      <td>B0</td>\n",
       "      <td>0</td>\n",
       "      <td>0</td>\n",
       "      <td>5780</td>\n",
       "    </tr>\n",
       "    <tr>\n",
       "      <td>B1</td>\n",
       "      <td>0</td>\n",
       "      <td>0</td>\n",
       "      <td>6290</td>\n",
       "    </tr>\n",
       "    <tr>\n",
       "      <td>B2</td>\n",
       "      <td>0</td>\n",
       "      <td>0</td>\n",
       "      <td>5440</td>\n",
       "    </tr>\n",
       "  </tbody>\n",
       "</table>\n",
       "</div>"
      ],
      "text/plain": [
       "    P0  P1    P2\n",
       "B0   0   0  5780\n",
       "B1   0   0  6290\n",
       "B2   0   0  5440"
      ]
     },
     "execution_count": 91,
     "metadata": {},
     "output_type": "execute_result"
    }
   ],
   "source": [
    "print(boldText+'Объём продаж i-го производителя j-му покупателю за вычетом затрат на доставку товара')\n",
    "DecisionVolPrice.head()"
   ]
  },
  {
   "cell_type": "code",
   "execution_count": 92,
   "metadata": {},
   "outputs": [
    {
     "data": {
      "image/png": "[encoded data removed]",
      "text/plain": [
       "<Figure size 1008x288 with 2 Axes>"
      ]
     },
     "metadata": {
      "needs_background": "light"
     },
     "output_type": "display_data"
    }
   ],
   "source": [
    "f, axes = plt.subplots(nrows=1, ncols=2, figsize=(14, 4), sharex=True)\n",
    "\n",
    "sumVolPrice = []\n",
    "for i in range(NProds):\n",
    "    sumVolPrice.append(DecisionVolPrice.values[:,i].sum())\n",
    "    \n",
    "sns.barplot(x=DecisionVolPrice.columns,\n",
    "            y=sumVolPrice,\n",
    "            palette=\"deep\",\n",
    "            ax=axes[0]).set_title('Объём продаж покупателям')\n",
    "\n",
    "sns.barplot(x=DecisionVolPrice.columns,\n",
    "            y=VolPricePort[:,0],\n",
    "            palette=\"deep\",\n",
    "            ax=axes[1]).set_title('Объём продаж в порт')\n",
    "\n",
    "plt.show()"
   ]
  },
  {
   "cell_type": "code",
   "execution_count": 93,
   "metadata": {},
   "outputs": [
    {
     "data": {
      "image/png": "[encoded data removed]",
      "text/plain": [
       "<Figure size 720x360 with 1 Axes>"
      ]
     },
     "metadata": {
      "needs_background": "light"
     },
     "output_type": "display_data"
    }
   ],
   "source": [
    "plt.figure(figsize=(10,5))\n",
    "sumBuyPort = list(np.array(sumVolPrice)+np.array(VolPricePort[:,0]))\n",
    "sns.barplot(x=DecisionVolPrice.columns,\n",
    "            y=sumBuyPort,\n",
    "            palette=\"deep\").set_title('Суммарный объём продаж')\n",
    "\n",
    "\n",
    "plt.show()"
   ]
  },
  {
   "cell_type": "code",
   "execution_count": 94,
   "metadata": {},
   "outputs": [
    {
     "data": {
      "image/png": "[encoded data removed]",
      "text/plain": [
       "<Figure size 1152x576 with 2 Axes>"
      ]
     },
     "metadata": {
      "needs_background": "light"
     },
     "output_type": "display_data"
    }
   ],
   "source": [
    "G = nx.Graph()\n",
    "#Морской порт\n",
    "for p in ProdIndex:\n",
    "    G.add_edge(p, 'Pt', w=DecisionVolPort[p]['Pt'])\n",
    "    \n",
    "#Продавцы / покупатели\n",
    "for b in BuyIndex:\n",
    "    for p in ProdIndex:\n",
    "        G.add_edge(p, b, w=DecisionVolPrice[p][b])\n",
    "\n",
    "nodeKeys = []\n",
    "nodePos = []\n",
    "num_buy = 0\n",
    "num_prod = 0\n",
    "for p in ProdIndex:\n",
    "        x_prod = int(-NProds/2)+num_prod\n",
    "        num_prod+=1\n",
    "        nodeKeys.append(p)\n",
    "        nodeKeys.append('Pt')\n",
    "        \n",
    "        nodePos.append([x_prod,1])\n",
    "        nodePos.append([0,2])\n",
    "        \n",
    "for b in BuyIndex:\n",
    "    num_prod = 0\n",
    "    x_buy = int(-NBuyers/2)+num_buy\n",
    "    num_buy+=1\n",
    "    for p in ProdIndex:\n",
    "        x_prod = int(-NProds/2)+num_prod\n",
    "        num_prod+=1\n",
    "        nodeKeys.append(p)\n",
    "        nodeKeys.append(b)\n",
    "        \n",
    "        nodePos.append([x_prod,1])\n",
    "        nodePos.append([x_buy,0])       \n",
    "        \n",
    "pos = dict(zip(nodeKeys, nodePos))        \n",
    "    \n",
    "elarge = [(u, v) for (u, v, d) in G.edges(data=True) if d['w'] > 0]\n",
    "esmall = [(u, v) for (u, v, d) in G.edges(data=True) if d['w'] == 0]\n",
    "\n",
    "\n",
    "plt.figure(figsize=(16, 8))\n",
    "plt.subplot(1,2,1)\n",
    "\n",
    "#nodes_color = ('darkmagenta', 'darkblue', ['darkmagenta']*(NProds-1),'darkgreen','darkgreen','darkgreen','darkgreen','darkgreen')\n",
    "#nodes_size = (p1, 2500, p2, p3, 2500, 2500, 2500, 2500)\n",
    "nx.draw_networkx_nodes(G, pos=pos, node_size=4000/((NProds+NBuyers)/2))\n",
    "\n",
    "nx.draw_networkx_edges(G, pos=pos, edgelist=elarge, width=2, edge_color='black')\n",
    "\n",
    "nx.draw_networkx_edges(G, pos=pos, edgelist=esmall, width=2, alpha=0.3, edge_color='red', style='dashed')\n",
    "\n",
    "edge_values = []\n",
    "for (u, v, d) in G.edges(data=True):\n",
    "    if d['w']>0:\n",
    "        edge_values.append(int(d['w']))\n",
    "        \n",
    "labels = dict(zip(elarge, edge_values))\n",
    "\n",
    "#nx.draw_networkx_edge_labels(G, pos=pos, edge_labels=labels, font_size=12, font_color='black')\n",
    "\n",
    "# labels\n",
    "nx.draw_networkx_labels(G, pos=pos, font_size=70/((NProds+NBuyers)/2), font_color='white')\n",
    "\n",
    "plt.axis('off')\n",
    "plt.subplot(1,2,2)\n",
    "plt.grid(True)\n",
    "sns.barplot(x=DecisionVolPrice.columns,\n",
    "            y=sumBuyPort,\n",
    "            palette=\"deep\").set_title('Суммарный объём продаж')\n",
    "\n",
    "#plt.axis('off')\n",
    "#print(boldText+'Визуализация модели\\n')\n",
    "plt.show()"
   ]
  },
  {
   "cell_type": "code",
   "execution_count": null,
   "metadata": {},
   "outputs": [],
   "source": []
  }
 ],
 "metadata": {
  "kernelspec": {
   "display_name": "Python 3",
   "language": "python",
   "name": "python3"
  },
  "language_info": {
   "codemirror_mode": {
    "name": "ipython",
    "version": 3
   },
   "file_extension": ".py",
   "mimetype": "text/x-python",
   "name": "python",
   "nbconvert_exporter": "python",
   "pygments_lexer": "ipython3",
   "version": "3.7.4"
  }
 },
 "nbformat": 4,
 "nbformat_minor": 2
}
